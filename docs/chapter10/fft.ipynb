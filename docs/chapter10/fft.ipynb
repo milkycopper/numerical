{
 "cells": [
  {
   "cell_type": "markdown",
   "metadata": {},
   "source": [
    "# DFT 和 FFT\n",
    "\n",
    "令 $\\omega = e^{-i2\\pi /n}$，有\n",
    "\n",
    "$$\\sum_{j=0}^{n-1} \\omega^{jk} = \\begin{cases}n\\quad\\text{if }k/n\\text{ is an integer }\\\\ 0 \\quad\\text{otherwise}\\end{cases}$$"
   ]
  },
  {
   "cell_type": "markdown",
   "metadata": {},
   "source": [
    "### 离散傅里叶变换 DFT"
   ]
  },
  {
   "cell_type": "markdown",
   "metadata": {},
   "source": [
    "矢量 $x = [x_0, x_1, ..., x_{n-1}]^T$ 到 $y = [y_0, y_1, ..., y_{n-1}]^T$ 的变换，规则为\n",
    "\n",
    "$$y_k = \\frac{1}{\\sqrt{n}} \\sum_{j=0}^{n-1}x_j \\omega^{jk}$$\n",
    "\n",
    "其中 $\\omega = e^{-i2\\pi /n}$"
   ]
  },
  {
   "cell_type": "markdown",
   "metadata": {},
   "source": [
    "即 $Y_n = F_n X_n$，傅里叶矩阵\n",
    "\n",
    "$$\n",
    "F_n = \\frac{1}{\\sqrt{n}}\n",
    "\\left[\\begin{array}{ccccc}\n",
    "\\omega^0 & \\omega^0 & \\omega^0 & \\cdots & \\omega^0 \\\\\n",
    "\\omega^0 & \\omega^1 & \\omega^2 & \\cdots & \\omega^{n-1} \\\\\n",
    "\\omega^0 & \\omega^2 & \\omega^4 & \\cdots & \\omega^{2(n-1)} \\\\\n",
    "\\omega^0 & \\omega^3 & \\omega^6 & \\cdots & \\omega^{3(n-1)}\\\\\n",
    "\\vdots & \\vdots & \\vdots &  & \\vdots \\\\\n",
    "\\omega^0 & \\omega^{n-1} & \\omega^{2(n-1)} & \\cdots & \\omega^{(n-1)^2}\n",
    "\\end{array}\\right]\n",
    "$$"
   ]
  },
  {
   "cell_type": "markdown",
   "metadata": {},
   "source": [
    "傅里叶变换矩阵是对称矩阵，它的逆矩阵就是把 $\\omega$ 替换成 $-\\omega$, 或者把矩阵的每个元素替换成它的复共轭。由于 $F_n$ 的共轭转置等于 $F_n$ 的逆，因此 $F_n$ 是酉矩阵 "
   ]
  },
  {
   "cell_type": "markdown",
   "metadata": {},
   "source": [
    "直接利用傅里叶变换矩阵进行离散傅里叶变换的复杂度为 $O(n^2)$"
   ]
  },
  {
   "cell_type": "markdown",
   "metadata": {},
   "source": [
    "若 $\\{y_k\\}$ 是 $\\{x_j\\}$ 的 $DFT$，且 $x_j$ 都为实数，则有 $(1)\\ y_0$是实数, $(2)\\ y_{n-k} = \\bar{y_k}\\text{ for } k=1,...,n-1$"
   ]
  },
  {
   "cell_type": "markdown",
   "metadata": {},
   "source": [
    "### 快速傅里叶变换 FFT"
   ]
  },
  {
   "cell_type": "markdown",
   "metadata": {},
   "source": [
    "令\n",
    "\n",
    "$$M_n = \n",
    "\\left[\\begin{array}{ccccc}\n",
    "\\omega^0 & \\omega^0 & \\omega^0 & \\cdots & \\omega^0 \\\\\n",
    "\\omega^0 & \\omega^1 & \\omega^2 & \\cdots & \\omega^{n-1} \\\\\n",
    "\\omega^0 & \\omega^2 & \\omega^4 & \\cdots & \\omega^{2(n-1)} \\\\\n",
    "\\omega^0 & \\omega^3 & \\omega^6 & \\cdots & \\omega^{3(n-1)}\\\\\n",
    "\\vdots & \\vdots & \\vdots &  & \\vdots \\\\\n",
    "\\omega^0 & \\omega^{n-1} & \\omega^{2(n-1)} & \\cdots & \\omega^{(n-1)^2}\n",
    "\\end{array}\\right]\n",
    "$$"
   ]
  },
  {
   "cell_type": "markdown",
   "metadata": {},
   "source": [
    "快速傅里叶变换使得我们可以在 $O(n\\text{log}n)$ 复杂度下计算出 $M_n X_n$"
   ]
  },
  {
   "cell_type": "markdown",
   "metadata": {},
   "source": [
    "原理是 $DFT(2^{m+1})$ 可以分解成两次 $DFT(2^m)$ 外加一些乘法和加法"
   ]
  },
  {
   "cell_type": "markdown",
   "metadata": {},
   "source": [
    "傅里叶逆变换可以通过傅里叶变换得到\n",
    "\n",
    "$$F_n^{-1}y = \\bar{F_n}y = \\bar{F_n \\bar{y}}$$"
   ]
  },
  {
   "cell_type": "markdown",
   "metadata": {},
   "source": [
    "令 $x_j$ 为时间轴 $[a,b]$ 上均匀分布的网格点\n",
    "\n",
    "$$x_j = \\frac{1}{\\sqrt{n}}\\sum_{k=0}^{n-1} y_k(\\omega^{-k})^j \\\\\n",
    "= \\frac{1}{\\sqrt{n}}\\sum_{k=0}^{n-1} y_k e^{i2\\pi kj/n}\\\\\n",
    "= \\sum_{k=0}^{n-1} y_k \\frac{e^{\\frac{i2\\pi k (t_j - a)}{b-a}}}{\\sqrt{n}}\n",
    "$$"
   ]
  },
  {
   "cell_type": "markdown",
   "metadata": {},
   "source": [
    "于是可以定义插值函数\n",
    "\n",
    "$$Q(t) = \\frac{1}{\\sqrt{n}}\\sum_{k=0}^{n-1} (a_k + ib_k)e^{i2\\pi k(t-a)/(b-a)}$$"
   ]
  },
  {
   "cell_type": "markdown",
   "metadata": {},
   "source": [
    "满足 $Q(t_j) = x_j \\text{ for }j=0,...,n-1$。傅里叶变换确定了插值函数的系数 $a_k,b_k$"
   ]
  },
  {
   "cell_type": "markdown",
   "metadata": {},
   "source": [
    "如果 $x_j$ 是实数，可以定义实插值函数\n",
    "\n",
    "$$P(t) = \\frac{1}{\\sqrt{n}}\\sum_{k=0}^{n-1} (a_k cos\\frac{2\\pi k(t-c)}{b - a} - b_k sin\\frac{2\\pi k(t-c)}{b - a})$$"
   ]
  },
  {
   "cell_type": "markdown",
   "metadata": {},
   "source": [
    "满足 $P(t_j) = x_j \\text{ for }j=0,...,n-1$"
   ]
  },
  {
   "cell_type": "markdown",
   "metadata": {},
   "source": [
    "得到插值系数后，可以直接通过高阶傅里叶变换得到更密集的插值点，而无需计算 sin 和 cos"
   ]
  },
  {
   "cell_type": "markdown",
   "metadata": {},
   "source": [
    "### 三角函数拟合\n",
    "\n",
    "傅里叶变换还可以用于进行三角函数拟合，傅里叶变换后舍弃高频项，即可获得最小二乘拟合。这也是一种信息压缩方式"
   ]
  }
 ],
 "metadata": {
  "language_info": {
   "name": "python"
  }
 },
 "nbformat": 4,
 "nbformat_minor": 2
}
