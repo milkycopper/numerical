{
 "cells": [
  {
   "cell_type": "markdown",
   "metadata": {},
   "source": [
    "# 解线性方程组的迭代方法"
   ]
  },
  {
   "cell_type": "markdown",
   "metadata": {},
   "source": [
    "### 直接法与迭代法\n",
    "\n",
    "* 直接法\n",
    "\n",
    "    直接法就是高斯消元，可以在有限的步骤内给出精确解（不考虑浮点数的机器精度问题）\n",
    "\n",
    "* 迭代法\n",
    "\n",
    "    从某个初始猜测值开始进行迭代，逼近精确解\n",
    "\n",
    "    相比直接法的优势\n",
    "\n",
    "    1. 单次迭代的时间复杂度为 $O(n^2)$，若初始猜测值距离解比较近，则复杂度低于直接法\n",
    "\n",
    "    2. 对于稀疏矩阵（非零元素个数为 $O(n)$ 个）的求解，时间复杂度和空间复杂度显著降低"
   ]
  },
  {
   "cell_type": "markdown",
   "metadata": {},
   "source": [
    "### 严格主对角矩阵 (strictly diagonally dominant)\n",
    "\n",
    "对 $n \\times n$ 矩阵 $A = (a_{ij})$，满足 $|a_{ii}| > \\sum_{j \\neq i} |a_{ij}|$\n",
    "\n",
    "严格主对角矩阵一定是非奇异矩阵"
   ]
  },
  {
   "cell_type": "markdown",
   "metadata": {},
   "source": [
    "### 雅可比迭代法\n",
    "\n",
    "矩阵 $A$ 可分解为 $A = L + D + U$\n",
    "\n",
    "$A x = b = (L + D + U)b$\n",
    "\n",
    "$D x = b - (L + U)x$\n",
    "\n",
    "$x = D^{-1}(b - (L + U)x)$\n",
    "\n",
    "因此雅可比迭代如下\n",
    "\n",
    "$$x_0 = initial vector$$\n",
    "$$x_{k+1} = D^{-1}(b - (L + U)x_k)\\ for\\ k=0,1,2,...$$\n",
    "\n",
    "#### 收敛性\n",
    "\n",
    "对任意 $b$ 和 $x_0$，\"$A$ 为严格主对角矩阵\" 是雅可比方法收敛到唯一解的充分条件"
   ]
  },
  {
   "cell_type": "markdown",
   "metadata": {},
   "source": [
    "### 高斯-赛德尔迭代法\n",
    "\n",
    "在当前步骤使用已经计算出的 $x_{k+1}$ 的分量\n",
    "\n",
    "$$x_0 = initial vector$$\n",
    "$$(L + D)x_{k+1} = -U x_{k} + b$$\n",
    "$$x_{k+1} = D^{-1}(b - U x_k - L x_{k+1})$$"
   ]
  },
  {
   "cell_type": "markdown",
   "metadata": {},
   "source": [
    "#### 收敛性\n",
    "\n",
    "对任意 $b$ 和 $x_0$，\"$A$ 为严格主对角矩阵\" 是高斯-赛德尔方法收敛到唯一解的充分条件，收敛速度通常快于雅可比方法"
   ]
  },
  {
   "cell_type": "markdown",
   "metadata": {},
   "source": [
    "#### Successive Over-Relaxation (SOR)\n",
    "\n",
    "$$x_{k+1} = (1-\\omega)x_k + \\omega D^{-1}(b - U x_k - L x_{k+1})$$\n",
    "\n",
    "$\\omega$ : relaxation parameter\n",
    "\n",
    "- $\\omega = 1$，高斯-赛德尔方法\n",
    "- $\\omega > 1$，over-relaxation\n",
    "- $\\omega < 1$，under-relaxation"
   ]
  }
 ],
 "metadata": {
  "language_info": {
   "name": "python"
  }
 },
 "nbformat": 4,
 "nbformat_minor": 2
}
