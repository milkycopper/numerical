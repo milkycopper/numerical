{
 "cells": [
  {
   "cell_type": "markdown",
   "metadata": {},
   "source": [
    "# 非线性方程组\n",
    "$x = (u, v, w)$\\\n",
    "$F(x) = F(u, v, w) = (f_1(u, v, w), f_2(u, v, w), f_3(u, v, w))$"
   ]
  },
  {
   "cell_type": "markdown",
   "metadata": {},
   "source": [
    "### 雅可比矩阵\n",
    "\n",
    "$$DF(x) = \\begin{bmatrix}\n",
    "\\frac{\\partial f_1}{\\partial u} & \\frac{\\partial f_1}{\\partial v} & \\frac{\\partial f_1}{\\partial w} \\\\\n",
    "\\\\\n",
    "\\frac{\\partial f_2}{\\partial u} & \\frac{\\partial f_2}{\\partial v} & \\frac{\\partial f_2}{\\partial w} \\\\\n",
    "\\\\\n",
    "\\frac{\\partial f_3}{\\partial u} & \\frac{\\partial f_3}{\\partial v} & \\frac{\\partial f_3}{\\partial w} \n",
    "\\end{bmatrix}$$\n",
    "\n",
    "* 泰勒展开\n",
    "\n",
    "    $F(x) = F(x_0) + DF(x_0)\\cdot (x - x_0) + O(x - x_0)^2$"
   ]
  },
  {
   "cell_type": "markdown",
   "metadata": {},
   "source": [
    "### 多元牛顿法\n",
    "\n",
    "$$x_0 = initial\\ vector$$\n",
    "\n",
    "$$\\begin{cases}\n",
    "DF(x_k)s = -F(x_k) \\\\\n",
    "x_{k+1} = x_k + s\n",
    "\\end{cases}$$\n",
    "\n",
    "如果可以方便地计算雅可比矩阵，那么牛顿法是多元非线性方程组的很好的解法，牛顿法具有二次收敛性，牛顿法不保证一定收敛"
   ]
  },
  {
   "cell_type": "markdown",
   "metadata": {},
   "source": [
    "### 布罗伊登(Broyden)法\n",
    "\n",
    "布罗伊登法适用于雅可比矩阵无法计算或者计算量很大的情况\n",
    "\n",
    "对每一次迭代，有一个近似解 $x_i$ 和近似的雅可比矩阵 $A_i$，先更新解 \n",
    "$$x_{i+1} = x_{i} - A_i^{-1}F(x_i)$$\n",
    "\n",
    "设 $\\delta_{i+1} = x_{i+1} - x_{i}$， $\\Delta_{i+1} = F(x_{i+1}) - F(x_i)$，向量 $w$ 为满足 $\\delta_{i+1}^T w = 0$ 的向量，我们要求 $A_{i+1}\\delta_{i+1} = \\Delta_{i+1}$ 且 $A_{i+1} w = A_i w$, 满足该条件的  $A_{i+1}$ 为\n",
    "$$A_{i+1} = A_{i} + \\frac{(\\Delta_{i+1} - A_i\\delta_{i+1})\\delta_{i+1}^T}{\\delta_{i+1}^T\\delta_{i+1}}$$\n",
    "\n",
    "从而更新了近似的雅可比矩阵"
   ]
  },
  {
   "cell_type": "markdown",
   "metadata": {},
   "source": [
    "#### 第一类布罗伊登法\n",
    "\n",
    "$x_0$ = initial vector\\\n",
    "$A_0$ = initial matrix\\\n",
    "**for** $i = 0,1,2,...$\\\n",
    "$\\quad$ $x_{i+1} = x_i - A^{-1}_i F(x_i)$\\\n",
    "$\\quad$ $A_{i+1} = A_{i} + \\frac{(\\Delta_{i+1} - A_i\\delta_{i+1})\\delta_{i+1}^T}{\\delta_{i+1}^T\\delta_{i+1}}$\\\n",
    "**end** \n",
    "\n",
    "和牛顿法一样，布罗伊登法不保证收敛到一个解"
   ]
  },
  {
   "cell_type": "markdown",
   "metadata": {},
   "source": [
    "#### 第二类布罗伊登法\n",
    "\n",
    "第一类布罗伊登法每次迭代的第一步需要先求解 $A_i\\delta_{i+1} = -F(x_i)$, 这是个比较昂贵的操作，第二类布罗伊登法选择对近似的雅可比矩阵的逆矩阵进行迭代\n",
    "\n",
    "$x_0$ = initial vector\\\n",
    "$B_0$ = initial matrix\\\n",
    "**for** $i = 0,1,2,...$\\\n",
    "$\\quad$ $x_{i+1} = x_i - B_i F(x_i)$\\\n",
    "$\\quad$ $B_{i+1} = B_{i} + \\frac{(\\delta_{i+1} - B_i\\Delta_{i+1})\\delta_{i+1}^T B_i}{\\delta_{i+1}^T B_i \\Delta_{i+1}}$\\\n",
    "**end** \n",
    "\n",
    "和牛顿法一样，布罗伊登法不保证收敛到一个解\n",
    "\n",
    "布罗伊登法对简单解（非多次解）具有超线性收敛性，比二次收敛性的牛顿法慢一些"
   ]
  }
 ],
 "metadata": {
  "language_info": {
   "name": "python"
  }
 },
 "nbformat": 4,
 "nbformat_minor": 2
}
