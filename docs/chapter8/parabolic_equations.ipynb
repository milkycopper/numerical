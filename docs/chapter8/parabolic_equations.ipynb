{
 "cells": [
  {
   "cell_type": "markdown",
   "metadata": {},
   "source": [
    "# 抛物线型 PDE"
   ]
  },
  {
   "cell_type": "markdown",
   "metadata": {},
   "source": [
    "热扩散方程是抛物线型方程的典型\n",
    "\n",
    "$$u_t = Du_{xx}$$\n",
    "\n",
    "其中 $D>0$ 称为扩散系数"
   ]
  },
  {
   "cell_type": "markdown",
   "metadata": {},
   "source": [
    "还需要设置初条件和边条件，问题可记为\n",
    "\n",
    "$$\\begin{cases}\n",
    "u_t= Du_{xx}\\text{ for all } a\\leq x\\leq b,\\ t\\geq 0\\\\\n",
    "u(x, 0) = f(x) \\text{ for all } a\\leq x\\leq b\\\\\n",
    "u(a, t) = l(t) \\text{ for all } t\\geq 0\\\\\n",
    "u(b, t) = r(t) \\text{ for all } t\\geq 0\n",
    "\\end{cases}$$"
   ]
  },
  {
   "cell_type": "markdown",
   "metadata": {},
   "source": [
    "### 前向差分法\n",
    "\n",
    "设 $x, t$ 方向的步长分别为 $h = (a-b)/M, k = T/N$, 用差分来近似微分可得\n",
    "\n",
    "$$u_{xx}(x, t) \\approx \\frac{1}{h^2}(u(x+h, t)-2u(x,t)+u(x-h,t))$$\n",
    "\n",
    "误差项为 $h^2u_{xxxx}(c_1, t)/12$。对时间可得\n",
    "\n",
    "$$u_t(x,t) \\approx \\frac{1}{k} (u(x, t+k)-u(x,t))$$\n",
    "\n",
    "误差项为 $ku_{tt}(x, c_2)/2$. 代入微分方程可得\n",
    "\n",
    "$$\\frac{D}{h^2}(w_{i+1,j} - 2w_{ij} + w_{i-1,j}) \\approx \\frac{1}{k}(w_{i,j+1} - w_{ij})$$\n",
    "\n",
    "单步局部误差为 $O(k) + O(h^2)$. 只要该方法是稳定的，那么根据局部误差可以很好地估计出全局误差。\n",
    "\n",
    "根据初条件和边条件可得 $w_{i0}\\text{ for }i=0,...,M$ 以及 $w_{0j}\\ \\text{和}\\ w_{Mj}\\text{ for }j=0,...,N$, 因此迭代方程就可以写成\n",
    "\n",
    "$$w_{i,j+1} = \\sigma w_{i+1,j} + (1-2\\sigma)w_{ij} + \\sigma w_{i-1,j}$$\n",
    "\n",
    "其中 $\\sigma = Dk/h^2$"
   ]
  },
  {
   "cell_type": "markdown",
   "metadata": {},
   "source": [
    "前向差分法是显式的。在时间轴上，第 $j+1$ 步的结果可由 $j$ 步计算出来，即 $w_{j+1}=Aw_j + s_j$，矩阵 $A$ 为\n",
    "\n",
    "$$\n",
    "\\left[\\begin{array}{ccccc}\n",
    "1-2\\sigma & \\sigma & 0 & \\cdots & 0 \\\\\n",
    "\\sigma & 1-2\\sigma & \\sigma & \\ddots & \\vdots \\\\\n",
    "0 & \\sigma & 1-2\\sigma & \\ddots & 0 \\\\\n",
    "\\vdots & \\ddots & \\ddots & \\ddots & \\sigma\\\\\n",
    "0 & \\cdots & 0 & \\sigma & 1-2\\sigma\n",
    "\\end{array}\\right]\n",
    "$$\n",
    "\n",
    "收敛性取决于矩阵 $A$ 的特征值，要保证误差不会一步步地放大，要求矩阵的谱半径 $\\rho(A) < 1$"
   ]
  },
  {
   "cell_type": "markdown",
   "metadata": {},
   "source": [
    "可以证明 $m \\times m$ 矩阵\n",
    "\n",
    "$$\n",
    "T = \n",
    "\\left[\\begin{array}{ccccc}\n",
    "1 & -1 & 0 & \\cdots & 0 \\\\\n",
    "-1 & 1 & -1 & \\ddots & \\vdots \\\\\n",
    "0 & -1 & 1 & \\ddots & 0 \\\\\n",
    "\\vdots & \\ddots & \\ddots & \\ddots & -1\\\\\n",
    "0 & \\cdots & 0 & -1 & 1\n",
    "\\end{array}\\right]\n",
    "$$\n",
    "\n",
    "的特征向量为\n",
    "\n",
    "$$v_j = \\left[sin\\frac{\\pi j}{m+1}, sin\\frac{2\\pi j}{m+1}, ...,sin\\frac{m\\pi j}{m+1}\\right]$$\n",
    "\n",
    "相应特征值为\n",
    "\n",
    "$$\\lambda_j = 1 - 2cos\\frac{\\pi j}{m+1}$$"
   ]
  },
  {
   "cell_type": "markdown",
   "metadata": {},
   "source": [
    "矩阵 $A = -\\sigma T + (1-\\sigma)I$, 因此矩阵 $A$ 的特征值为 \n",
    "\n",
    "$$-\\sigma (1 - 2cos\\frac{\\pi j}{m+1}) + (1-\\sigma) = 2\\sigma (cos\\frac{\\pi j}{m+1} - 1) + 1$$"
   ]
  },
  {
   "cell_type": "markdown",
   "metadata": {},
   "source": [
    "$\\rho (A) < 1$ 即要求 $\\sigma = Dk/h^2 < 1/2$"
   ]
  },
  {
   "cell_type": "markdown",
   "metadata": {},
   "source": [
    "由于前向差分法的稳定性依赖于步长的选择，因此前向差分法是条件稳定的"
   ]
  },
  {
   "cell_type": "markdown",
   "metadata": {},
   "source": [
    "###  反向差分法\n",
    "\n",
    "相较于前向差分法，反向差分法是隐式方法，有着更好的稳定性。区别在于对时间的差分采用反向差分公式\n",
    "\n",
    "$$u_t = \\frac{1}{k}(u(x, t) - u(x, t-k)) + \\frac{k}{2}u_{tt}(x, c_0)$$\n",
    "\n",
    "代入微分方程有\n",
    "\n",
    "$$\\frac{D}{h^2}(w_{i+1,j} - 2w_{ij} + w_{i-1,j}) = \\frac{1}{k}(w_{i,j} - w_{i,j-1})$$"
   ]
  },
  {
   "cell_type": "markdown",
   "metadata": {},
   "source": [
    "$$w_{i,j-1} = -\\sigma w_{i+1,j} + (1+2\\sigma)w_{ij} - \\sigma w_{i-1,j}$$"
   ]
  },
  {
   "cell_type": "markdown",
   "metadata": {},
   "source": [
    "写成矩阵方程为\n",
    "\n",
    "$$\n",
    "\\left[\\begin{array}{ccccc}\n",
    "1+2\\sigma & -\\sigma & 0 & \\cdots & 0 \\\\\n",
    "-\\sigma & 1+2\\sigma & -\\sigma & \\ddots & \\vdots \\\\\n",
    "0 & -\\sigma & 1+2\\sigma & \\ddots & 0 \\\\\n",
    "\\vdots & \\ddots & \\ddots & \\ddots & -\\sigma\\\\\n",
    "0 & \\cdots & 0 & -\\sigma & 1+2\\sigma\n",
    "\\end{array}\\right]\n",
    "\n",
    "\\left[\\begin{array}{c}\n",
    "w_{1j}\\\\\n",
    "\\vdots\\\\\n",
    "w_{mj}\n",
    "\\end{array}\\right] = \n",
    "\n",
    "\\left[\\begin{array}{c}\n",
    "w_{1,j-1}\\\\\n",
    "\\vdots\\\\\n",
    "w_{m,j-1}\n",
    "\\end{array}\\right] + \\sigma\n",
    "\n",
    "\\left[\\begin{array}{c}\n",
    "w_{0j}\\\\\n",
    "0\\\\\n",
    "\\vdots\\\\\n",
    "0\\\\\n",
    "w_{m+1,j}\n",
    "\\end{array}\\right]\n",
    "$$"
   ]
  },
  {
   "cell_type": "markdown",
   "metadata": {},
   "source": [
    "反向差分法的迭代方程可以写作 \n",
    "\n",
    "$$w_j = A^{-1}w_{j-1} + b$$\n",
    "\n",
    "其中 \n",
    "\n",
    "$$A = \\left[\\begin{array}{ccccc}\n",
    "1+2\\sigma & -\\sigma & 0 & \\cdots & 0 \\\\\n",
    "-\\sigma & 1+2\\sigma & -\\sigma & \\ddots & \\vdots \\\\\n",
    "0 & -\\sigma & 1+2\\sigma & \\ddots & 0 \\\\\n",
    "\\vdots & \\ddots & \\ddots & \\ddots & -\\sigma\\\\\n",
    "0 & \\cdots & 0 & -\\sigma & 1+2\\sigma\n",
    "\\end{array}\\right]$$"
   ]
  },
  {
   "cell_type": "markdown",
   "metadata": {},
   "source": [
    "$A = \\sigma T + (1+\\sigma)I$ 的特征值为\n",
    "\n",
    "$$\\sigma (1 - 2cos\\frac{\\pi j}{m+1}) + 1 + \\sigma= 1 + 2\\sigma(1 - cos\\frac{\\pi j}{m+1}) > 1$$"
   ]
  },
  {
   "cell_type": "markdown",
   "metadata": {},
   "source": [
    "因此迭代误差永远不会放大，反向差分法是无条件稳定的"
   ]
  },
  {
   "cell_type": "markdown",
   "metadata": {},
   "source": [
    "虽然算法是稳定的，但是误差项仍然是 $O(k) + O(h^2)$, $h \\approx k$ 时，时间步长上的误差占主导"
   ]
  },
  {
   "cell_type": "markdown",
   "metadata": {},
   "source": [
    "### Crank–Nicolson 方法"
   ]
  },
  {
   "cell_type": "markdown",
   "metadata": {},
   "source": [
    "前向差分法和反向差分法的误差都是 $O(k + h^2)$，Crank–Nicolson 方法结合了显式方法和隐式方法,它的误差是 $O(h^2) + O(k^2)$, 而且是无条件稳定的。"
   ]
  },
  {
   "cell_type": "markdown",
   "metadata": {},
   "source": [
    "与反向差分法相同,\n",
    "\n",
    "$$u_t = \\frac{1}{k}(w_{ij} - w_{i, j -1})$$\n",
    "\n",
    "但是\n",
    "\n",
    "$$u_{xx} = \\frac{1}{2}\\frac{w_{i+1,j} - w_{ij} + w_{i-1,j}}{h^2} + \\frac{1}{2}\\frac{w_{i+1,j-1} - w_{i,j-1} + w_{i-1,j-1}}{h^2}$$"
   ]
  },
  {
   "cell_type": "markdown",
   "metadata": {},
   "source": [
    "同样令 $\\sigma = Dk/h^2$, 代入微分方程得\n",
    "\n",
    "$$-\\sigma w_{i-1,j} + (2+2\\sigma)w_{ij} - \\sigma w_{i+1,j} = \\sigma w_{i-1,j-1} + (2-2\\sigma)w_{i,j-1}+\\sigma w_{i+1,j-1}$$"
   ]
  },
  {
   "cell_type": "markdown",
   "metadata": {},
   "source": [
    "设 $w_j = [w_{1j},...,w_{mj}]^T$, 写成矩阵形式就有\n",
    "\n",
    "$$A w_j = B w_{j-1} + \\sigma(s_{j-1} + s_j)$$\n",
    "\n",
    "$$A = \\left[\\begin{array}{ccccc}\n",
    "2+2\\sigma & -\\sigma & 0 & \\cdots & 0 \\\\\n",
    "-\\sigma & 2+2\\sigma & -\\sigma & \\ddots & \\vdots \\\\\n",
    "0 & -\\sigma & 2+2\\sigma & \\ddots & 0 \\\\\n",
    "\\vdots & \\ddots & \\ddots & \\ddots & -\\sigma\\\\\n",
    "0 & \\cdots & 0 & -\\sigma & 2+2\\sigma\n",
    "\\end{array}\\right]$$\n",
    "\n",
    "$$B = \\left[\\begin{array}{ccccc}\n",
    "2-2\\sigma & \\sigma & 0 & \\cdots & 0 \\\\\n",
    "\\sigma & 2-2\\sigma & \\sigma & \\ddots & \\vdots \\\\\n",
    "0 & \\sigma & 2-2\\sigma & \\ddots & 0 \\\\\n",
    "\\vdots & \\ddots & \\ddots & \\ddots & \\sigma\\\\\n",
    "0 & \\cdots & 0 & \\sigma & 2-2\\sigma\n",
    "\\end{array}\\right]$$\n",
    "\n",
    "$$s_j = [w_{0j},0,...,0,w_{m+1,j}]^T$$"
   ]
  },
  {
   "cell_type": "markdown",
   "metadata": {},
   "source": [
    "* Crank–Nicolson 方法稳定性和误差分析\n",
    "\n",
    "    TODO"
   ]
  }
 ],
 "metadata": {
  "language_info": {
   "name": "python"
  }
 },
 "nbformat": 4,
 "nbformat_minor": 2
}
