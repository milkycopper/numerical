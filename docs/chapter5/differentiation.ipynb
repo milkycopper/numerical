{
 "cells": [
  {
   "cell_type": "markdown",
   "metadata": {},
   "source": [
    "# 数值微分"
   ]
  },
  {
   "cell_type": "markdown",
   "metadata": {},
   "source": [
    "### 两点前向差分公式\n",
    "\n",
    "$$f'(x) = \\frac{f(x+h)-f(x)}{h}-\\frac{h}{2}f''(c)$$\n",
    "\n",
    "其中 $c \\in (x, x+h)$"
   ]
  },
  {
   "cell_type": "markdown",
   "metadata": {},
   "source": [
    "两点前向差分是一阶方法，一般来说，如果误差项是 $O(h^n)$，那就是 $n$ 阶方法"
   ]
  },
  {
   "cell_type": "markdown",
   "metadata": {},
   "source": [
    "### 推广的中值定理\n",
    "\n",
    "设 $f$ 为区间 $[a, b]$ 间的连续函数，$x_1,...,x_n$ 为区间内的点，且 $a_1,...,a_n > 0$，则 $[a, b]$ 内存在点 $c$ 满足 $$(a_1 + \\cdots + a_n)f(c) = a_1 f(x_1) + \\cdots + a_n f(x_n)$$"
   ]
  },
  {
   "cell_type": "markdown",
   "metadata": {},
   "source": [
    "### 三点中央差分公式\n",
    "\n",
    "$$f'(x) = \\frac{f(x+h)-f(x-h)}{2h}-\\frac{h^2}{6}f'''(c)$$\n",
    "\n",
    "其中 $c \\in (x-h, x+h)$"
   ]
  },
  {
   "cell_type": "markdown",
   "metadata": {},
   "source": [
    "对二阶导数\n",
    "\n",
    "$$f''(x) = \\frac{f(x+h)-2f(x)+f(x-h)}{h^2}-\\frac{h^2}{12}f^{(4)}(c)$$\n",
    "\n",
    "其中 $c \\in (x-h, x+h)$"
   ]
  },
  {
   "cell_type": "markdown",
   "metadata": {},
   "source": [
    "### 数值微分的困难\n",
    "\n",
    "数值微分固有的困难在于两个相近的数相减导致的误差\n",
    "\n",
    "以三点中央差分公式为例，由于舍入误差，$f(x)$ 的计算值与真实值之间的误差至少是机器误差，即 $\\hat{f}(x+h) = f(x+h)+\\epsilon_1$, $\\hat{f}(x-h) = f(x-h)+\\epsilon_2$, 其中 $|\\epsilon_1|, |\\epsilon_2| \\approx \\epsilon_{mach}$"
   ]
  },
  {
   "cell_type": "markdown",
   "metadata": {},
   "source": [
    "可得误差项为\n",
    "\n",
    "$$\\begin{aligned}\n",
    "f^{\\prime}(x)_{\\text {correct }}-f^{\\prime}(x)_{\\text {machine }} & =f^{\\prime}(x)-\\frac{\\hat{f}(x+h)-\\hat{f}(x-h)}{2 h} \\\\\n",
    "& =f^{\\prime}(x)-\\frac{f(x+h)+\\epsilon_1-\\left(f(x-h)+\\epsilon_2\\right)}{2 h} \\\\\n",
    "& =\\left(f^{\\prime}(x)-\\frac{f(x+h)-f(x-h)}{2 h}\\right)+\\frac{\\epsilon_2-\\epsilon_1}{2 h} \\\\\n",
    "& =\\left(f^{\\prime}(x)_{\\text {correct }}-f^{\\prime}(x)_{\\text {formula }}\\right)+\\text { error }_{\\text {rounding. }} \\\\\n",
    "& =\\frac{h^2}{6}f'''(c) + \\frac{\\epsilon_{mach}}{h}\n",
    "\\end{aligned}$$"
   ]
  },
  {
   "cell_type": "markdown",
   "metadata": {},
   "source": [
    "### 外推\n",
    "\n",
    "通过外推可以获得精度更高的微分公式\n",
    "\n",
    "设某个公式原本是 $n$ 阶近似，可以写成\n",
    "\n",
    "$$Q = F_n(h) + K h^n + O(h^{n + 1})$$\n",
    "\n",
    "代入 $h/2$\n",
    "\n",
    "$$Q = F_n(h/2) + K\\frac{h^n}{2^n} + O(h^{n + 1})$$\n",
    "\n",
    "由此可以得到(至少) $n+1$ 阶近似公式\n",
    "\n",
    "$$\\begin{aligned}\n",
    "F_{n+1}(h) & =\\frac{2^n F_n(h / 2)-F_n(h)}{2^n-1} \\\\\n",
    "& =\\frac{2^n\\left(Q-K h^n / 2^n-O\\left(h^{n+1}\\right)\\right)-\\left(Q-K h^n-O\\left(h^{n+1}\\right)\\right)}{2^n-1} \\\\\n",
    "& =Q+\\frac{-K h^n+K h^n+O\\left(h^{n+1}\\right)}{2^n-1}=Q+O\\left(h^{n+1}\\right) .\n",
    "\\end{aligned}$$\n",
    "\n"
   ]
  }
 ],
 "metadata": {
  "language_info": {
   "name": "python"
  }
 },
 "nbformat": 4,
 "nbformat_minor": 2
}
