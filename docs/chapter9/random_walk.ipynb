{
 "cells": [
  {
   "cell_type": "markdown",
   "metadata": {},
   "source": [
    "# 随机游走"
   ]
  },
  {
   "cell_type": "markdown",
   "metadata": {},
   "source": [
    "考虑每步都以 $\\frac{1}{2}$ 的概率走 $+1$ 或 $-1$ 的随机游走。单步的期望为 $0$, 单步方差为 $1$。$t$ 步的期望为 $0$, 方差为 $t$"
   ]
  },
  {
   "cell_type": "markdown",
   "metadata": {},
   "source": [
    "### 逃逸时间\n",
    "\n",
    "随机游走从零开始，逃出 $[-b, a]$ 的区间，从 $a$ 边界逃离的概率为 $\\frac{b}{a+b}$，逃离时间的期望值为 $ab$。可以运用蒙特卡罗法来验证。"
   ]
  },
  {
   "cell_type": "markdown",
   "metadata": {},
   "source": [
    "### 连续的随机游走"
   ]
  },
  {
   "cell_type": "markdown",
   "metadata": {},
   "source": [
    "把单位时间内的步数乘以 $k$ 但每步的步长乘以 $1/\\sqrt{k}$, 能在保持方差的情况下模拟更加连续的随机游走"
   ]
  },
  {
   "cell_type": "markdown",
   "metadata": {},
   "source": [
    "连续随机游走的三个性质\n",
    "\n",
    "1. 随机变量 $B_t$ 的分布为均值为 $0$ 方差为 $t$ 的正态分布\n",
    "2. $B_{t2} - B_{t1}$ 与 $t_1$ 及其之前的状态无关\n",
    "3. $B_t$ 可以由连续的路径来表示"
   ]
  }
 ],
 "metadata": {
  "language_info": {
   "name": "python"
  }
 },
 "nbformat": 4,
 "nbformat_minor": 2
}
