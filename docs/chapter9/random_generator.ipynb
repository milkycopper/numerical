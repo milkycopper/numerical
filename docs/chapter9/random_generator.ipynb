{
 "cells": [
  {
   "cell_type": "markdown",
   "metadata": {},
   "source": [
    "# 随机数发生器"
   ]
  },
  {
   "cell_type": "markdown",
   "metadata": {},
   "source": [
    "随机数发生器的两个目标\n",
    "\n",
    "1. 独立性\n",
    "\n",
    "    即 $x_n$ 与 $x_{n-1}, x_{n-2},...$ 无关\n",
    "\n",
    "2. 分布的一致性\n",
    "\n",
    "    即 $x_n$ 的分布与 $n$ 无关"
   ]
  },
  {
   "cell_type": "markdown",
   "metadata": {},
   "source": [
    "基于计算机的随机数生成器无法保证独立性，但可以做到看起来具有独立性，即伪随机数"
   ]
  },
  {
   "cell_type": "markdown",
   "metadata": {},
   "source": [
    "### 均匀分布\n",
    "\n",
    "最简单的随机数生成器就是 $[0, 1]$ 内均匀分布的伪随机数发生器。\n",
    "\n",
    "#### 线性求余生成器\n",
    "\n",
    "$$x_i = (a * x_{i-1} + b)\\ \\%\\ m$$\n",
    "$$u_i = x_i / m$$"
   ]
  },
  {
   "cell_type": "markdown",
   "metadata": {},
   "source": [
    "整数 $2^p - 1 (p 为整数)$ 如果是一个质数，那么这个质数称为梅森质数。$2^{31} - 1$ 是一个梅森质数。\n",
    "\n",
    "参数选为 $m = 2^{31} - 1, a = 7^5 = 16807, b = 0$ 可以得到一个 $Minimal\\ standard$ 随机数生成器。该伪随机数生成器的重复周期为 $2^{31} - 2 \\approx 2 \\times 10^9$, 对当代的高频计算要求已经不太够了。"
   ]
  },
  {
   "cell_type": "markdown",
   "metadata": {},
   "source": [
    "#### 后滞斐波那契生成器\n",
    "\n",
    "$[0,1]$ 内的所有浮点数都被用到，重复周期大于 $2^{1400}$。参见 \n",
    "\n",
    "G. Marsaglia and A. Zaman [1991] “A New Class of Random Number Generators.’’\n",
    "Annals of Applied Probability 1, 462–480."
   ]
  },
  {
   "cell_type": "markdown",
   "metadata": {},
   "source": [
    "### 指数分布\n",
    "\n",
    "分布函数为 $p(x) = a e^{-ax} \\text{ for } a>0$"
   ]
  },
  {
   "cell_type": "markdown",
   "metadata": {},
   "source": [
    "累积分布函数为\n",
    "\n",
    "$$P(x) = \\int_0^{x} p(x) dx = 1-e^{-ax}$$"
   ]
  },
  {
   "cell_type": "markdown",
   "metadata": {},
   "source": [
    "令均匀分布的变量\n",
    "\n",
    "$$u = 1 - e^{-ax}$$\n",
    "\n",
    "可得\n",
    "\n",
    "$$x = \\frac{-ln(1 - u)}{a}$$"
   ]
  },
  {
   "cell_type": "markdown",
   "metadata": {},
   "source": [
    "即通过均匀分布得到了指数分布"
   ]
  },
  {
   "cell_type": "markdown",
   "metadata": {},
   "source": [
    "累积分布函数为 $P(x)$ 的随机分布都可以通过 $P^{-1}(U[0, 1])$ 来获取，其中 $U[0,1]$ 是 $[0, 1]$ 内的均匀分布"
   ]
  },
  {
   "cell_type": "markdown",
   "metadata": {},
   "source": [
    "### 正态分布\n",
    "\n",
    "类似指数分布，也可通过均匀分布外加一些数学计算来完成"
   ]
  }
 ],
 "metadata": {
  "language_info": {
   "name": "python"
  }
 },
 "nbformat": 4,
 "nbformat_minor": 2
}
