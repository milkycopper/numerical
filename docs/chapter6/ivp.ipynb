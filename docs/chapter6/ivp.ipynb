{
 "cells": [
  {
   "cell_type": "markdown",
   "metadata": {},
   "source": [
    "# 常微分方程的初值问题 （IVP）"
   ]
  },
  {
   "cell_type": "markdown",
   "metadata": {},
   "source": [
    "### 常微分方程 （ODE）\n",
    "\n",
    "一阶常微分方程\n",
    "\n",
    "$$y'(t) = f(t, y(t))$$"
   ]
  },
  {
   "cell_type": "markdown",
   "metadata": {},
   "source": [
    "### 初值问题 (IVP)\n",
    "\n",
    "$$\\begin{cases}\n",
    "y' = f(t, y)\\\\\n",
    "y(a) = y_a \\\\\n",
    "t \\in [a, b]\n",
    "\\end{cases}$$"
   ]
  },
  {
   "cell_type": "markdown",
   "metadata": {},
   "source": [
    "#### Logistic 方程\n",
    "\n",
    "$$\\begin{cases}\n",
    "y' = cy(1-y)\\\\\n",
    "y(0) = y_0 \\\\\n",
    "t \\in [0, T]\n",
    "\\end{cases}$$\n",
    "\n",
    "该方程的解为\n",
    "\n",
    "$$y(t) = 1 - \\frac{1}{1+ \\frac{y_0}{1-y_0}e^{ct}}$$"
   ]
  },
  {
   "cell_type": "markdown",
   "metadata": {},
   "source": [
    "### 欧拉法\n",
    "\n",
    "选取一组采样点 $t_i,\\ i=0,1,2,...$\n",
    "\n",
    "$$w(t_0) = y_0$$\n",
    "$$w(t_{i+1}) = w(t_i) + (t_{i+1} - t_i)f(t_i, w_i)$$\n",
    "\n",
    "欧拉法的误差正比于采样点的间隔的平方"
   ]
  },
  {
   "cell_type": "markdown",
   "metadata": {},
   "source": [
    "### 利普西茨连续\n",
    "\n",
    "函数 $f(t, y)$ 对变量 $y$ 在区域 $S = [a, b]\\times [\\alpha, \\beta]$ 满足利普西茨连续，即存在常量 $L$ 满足\n",
    "\n",
    "$$|f(t, y_1) - f(t, y_2)| \\leq L|y_1 - y_2|$$\n",
    "\n",
    "对 $S$ 内任意两点 $(t, y_1), (t, y_2)$ 成立\n",
    "\n",
    "利普西茨连续保证函数对 $y$ 连续，但不一定可微，如果函数可微，则利普西茨常量 $L$ 等于 $\\partial f/\\partial y$ 的最大的绝对值\n",
    "\n",
    "若函数 $f(t, y)$ 对变量 $y$ 在区域 $S = [a, b]\\times [\\alpha, \\beta]$ 满足利普西茨连续，且 $y_a \\in (\\alpha, \\beta)$，那么存在 $c \\in (a, b)$ 使得 IVP 问题 \n",
    "\n",
    "$$\\begin{cases}\n",
    "y' = f(t, y)\\\\\n",
    "y(a) = y_a \\\\\n",
    "t \\in [a, c]\n",
    "\\end{cases}$$\n",
    "\n",
    "有且只有一个解。特别的，若 $\\alpha = -\\infty, \\beta = \\infty$，则 IVP 在 $[a, b]$ 上有且只有一个解"
   ]
  },
  {
   "cell_type": "markdown",
   "metadata": {},
   "source": [
    "### IVP 的误差估计\n",
    "\n",
    "若函数 $f(t, y)$ 对变量 $y$ 在区域 $S = [a, b]\\times [\\alpha, \\beta]$ 满足利普西茨连续，假设 $Y(t), Z(t)$ 是微分方程 $y' = f(t, y)$ 的两个解，初值分别为 $Y(a), Z(a)$，两个解的偏差满足\n",
    "\n",
    "$$|Y(t) - Z(t)| \\leq e^{L(t - a)}|Y(a) - Z(a)|$$"
   ]
  },
  {
   "cell_type": "markdown",
   "metadata": {},
   "source": [
    "#### 误差累积\n",
    "\n",
    "每一步全局误差为该步的局部误差加上上一步的全局误差放大后的误差，即\n",
    "\n",
    "$$g_i \\leq e_i + e^{Lh}g_{i-1}$$\n",
    "\n",
    "$$g_i \\leq e_i + e^{Lh}e_{i-1} + e^{2Lh}e_{i-2} + \\cdots + e^{(i-1)Lh}e_{1}$$"
   ]
  },
  {
   "cell_type": "markdown",
   "metadata": {},
   "source": [
    "对欧拉法，由泰勒展开可得欧拉法的单步局部误差正比于步长的平方，更一般的，假设单步局部误差满足\n",
    "\n",
    "$$e_i \\leq Ch^{k+1}$$\n",
    "\n",
    "对欧拉法，$k = 1$，这时有\n",
    "\n",
    "$$g_i \\leq Ch^{k+1}(1 + e^{Lh} + \\cdots + e^{(i-1)Lh})\\\\ =Ch^{k+1}\\frac{e^{iLh} - 1}{e^{Lh} - 1} \\leq \\frac{e^{L(t_i - a)} - 1}{Lh} = \\frac{Ch^k}{L}(e^{L(t_i - a)} - 1)$$\n",
    "\n",
    "其中 $k$ 为 $ODE$ 求解器的阶数，欧拉法的阶数为 1"
   ]
  },
  {
   "cell_type": "markdown",
   "metadata": {},
   "source": [
    "### 一阶线性常微分方程\n",
    "\n",
    "一阶线性常微分方程\n",
    "\n",
    "$$\\begin{cases}\n",
    "y' = g(t)y + h(t)\\\\\n",
    "y(a) = y_a \\\\\n",
    "t \\in [a, b]\n",
    "\\end{cases}$$\n",
    "\n",
    "具有显式解\n",
    "\n",
    "$$y(t) = e^{\\int g(t)dt}\\int e^{-\\int g(t)dt}h(t)dt$$"
   ]
  },
  {
   "cell_type": "markdown",
   "metadata": {},
   "source": [
    "### 显式两点法\n",
    "\n",
    "$$w_0 = y_0\\\\ w'_i = w_i + hf(t_i, w_i)\\\\ w_{i+1} = w_i + \\frac{h}{2}(f(t_i, w_i) + f(t_i + h, w'_i))$$\n",
    "\n",
    "之所以是显式法，是因为 $w_{i+1}$ 可以直接从 $w_{i},\\ t_i$ 得出 "
   ]
  },
  {
   "cell_type": "markdown",
   "metadata": {},
   "source": [
    "显式两点法误差分析如下，展开可得\n",
    "\n",
    "$$\\begin{aligned}\n",
    "w_{i+1} &= w_i + \\frac{h}{2}(f(t_i, w_i) + f(t_i + h, w'_i))\\\\\n",
    "&= w_i + \\frac{h}{2}f(t_i, w_i) + \\frac{h}{2}(f(t_i, w_i) + h\\frac{\\partial f(t_i, w_i)}{\\partial t} + hf(t_i, w_i)\\frac{\\partial f(t_i, w_i)}{\\partial w} + O(h^2))\\\\\n",
    "&=  w_i + hf(t_i, w_i) + \\frac{h^2}{2}(\\frac{\\partial f(t_i, w_i)}{\\partial t} + f(t_i, w_i)\\frac{\\partial f(t_i, w_i)}{\\partial w} ) + O(h^3)\n",
    "\\end{aligned}$$"
   ]
  },
  {
   "cell_type": "markdown",
   "metadata": {},
   "source": [
    "与对 $t$ 的泰勒展开的差别为 $O(h^2)$，因此显式两点法是二阶方法"
   ]
  },
  {
   "cell_type": "markdown",
   "metadata": {},
   "source": [
    "由此推广开来，可得 $k$ 阶泰勒法\n",
    "\n",
    "$$w_0 = y_0$$\n",
    "\n",
    "$$w_{i+1} = w_i + hf(t_i, w_i) + \\frac{h^2}{2}f'(t_i, w_i) + \\cdots + \\frac{h^k}{k!}f^{(k+1)}(t_i, w_i)$$\n",
    "\n",
    "泰勒法需要求多次导，可通过第五章的数值方法或者公式推导来求"
   ]
  }
 ],
 "metadata": {
  "language_info": {
   "name": "python"
  }
 },
 "nbformat": 4,
 "nbformat_minor": 2
}
