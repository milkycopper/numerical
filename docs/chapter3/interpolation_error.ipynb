{
 "cells": [
  {
   "cell_type": "markdown",
   "metadata": {},
   "source": [
    "# 插值误差"
   ]
  },
  {
   "cell_type": "markdown",
   "metadata": {},
   "source": [
    "### 多项式插值的误差\n",
    "\n",
    "对一个 $n$ 次可微的函数 $f(x)$, 取其上 $n$ 个点 $(x_1, f(x_1))...(x_n, f(x_n))$, 进行多项式插值，获得插值多项式 $P_{n-1}(x)$, 那么 $f(x)$ 与 $P_{n-1}(x)$ 之间的误差关系为\n",
    "\n",
    "$$f(x) = P_{n-1}(x) + \\frac{f^{(n)}(c)}{n!}(x - x_1)\\cdots (x - x_n)$$\n",
    "\n",
    "其中 $c$ 的取值与 $x$ 有关，且 $c$ 落在 $\\{x_1, x_2, ..., x_n, x\\}$ 这 $n + 1$ 个点可围成的最大的区间内 "
   ]
  },
  {
   "cell_type": "markdown",
   "metadata": {},
   "source": [
    "#### 证明\n",
    "\n",
    "过 $\\{x_1, x_2, ..., x_n, x\\}$ 这 $n + 1$ 个点的插值多项式为 $P_{n}(t)$, 有\n",
    "\n",
    "$$P_n(t) = P_{n-1}(t) + f[x_1\\ ...\\ x_n\\ x](t-x_1)\\cdots(t-x_n)$$"
   ]
  },
  {
   "cell_type": "markdown",
   "metadata": {},
   "source": [
    "在点 $x$ 上有\n",
    "\n",
    "$$f(x) = P_n(x) = P_{n-1}(x) + f[x_1\\ ...\\ x_n\\ x](x-x_1)\\cdots(x-x_n)$$"
   ]
  },
  {
   "cell_type": "markdown",
   "metadata": {},
   "source": [
    "定义 $g(t) = f(t) - P_{n-1}(t) - f[x_1\\ ...\\ x_n\\ x](t-x_1)\\cdots(t-x_n)$"
   ]
  },
  {
   "cell_type": "markdown",
   "metadata": {},
   "source": [
    "$g(t)$ 有 $\\{x_1, x_2, ..., x_n, x\\}$ 这 $n + 1$ 个零点，根据罗尔定理，这 $n + 1$ 个点可围成的最大的区间内必有一个点 $c$ 满足 \n",
    "\n",
    "$$g^{(n)}(c) = 0 = f^{(n)}(c) - n!f[x_1\\ ...\\ x_n\\ x]$$"
   ]
  },
  {
   "cell_type": "markdown",
   "metadata": {},
   "source": [
    "所以\n",
    "\n",
    "$$f(x) = P_{n-1}(x) + f[x_1\\ ...\\ x_n\\ x](x-x_1)\\cdots(x-x_n) = \\\\ P_{n-1}(x) + \\frac{f^{(n)}(c)}{n!}(x - x_1)\\cdots (x - x_n)$$"
   ]
  }
 ],
 "metadata": {
  "language_info": {
   "name": "python"
  }
 },
 "nbformat": 4,
 "nbformat_minor": 2
}
