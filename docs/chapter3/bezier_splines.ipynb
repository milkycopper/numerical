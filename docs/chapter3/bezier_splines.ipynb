{
 "cells": [
  {
   "cell_type": "markdown",
   "metadata": {},
   "source": [
    "# 贝塞尔样条插值"
   ]
  },
  {
   "cell_type": "markdown",
   "metadata": {},
   "source": [
    "$n$ 阶贝塞尔曲线的递归定义\n",
    "\n",
    "给定 k 个控制点 $P_i,\\ i = 0,1,...,k - 1$, $k$ 阶贝塞尔曲线\n",
    "\n",
    "$$B_{P_0P_1...P_{k - 1}} = (1 - t)B_{P_0...P_{k - 2}} + t B_{P_1...P_{k - 1}}$$\n",
    "\n"
   ]
  },
  {
   "cell_type": "markdown",
   "metadata": {},
   "source": [
    "$k = 0,\\ B_{P_0} = P_0$\\\n",
    "$k = 1,\\ B_{P_0P_1} = (1 - t)P_0 + t P_1$\\\n",
    "$\\begin{aligned}\n",
    "k = 2,\\ B_{P_0P_1P_2} &= (1 - t)B_{P_0P_1} + t B_{P_1P_2}\\\\\n",
    "&= (1 - t)((1 - t)P_0 + t P_1) + t((1 - t)P_1 + t P_2)\\\\\n",
    "&= P_0 + (-2 P_0 + 2 P_1) t + (P_0 - 2 P_1 + P_2) t^2\n",
    "\\end{aligned}$\\\n",
    "$\\begin{aligned}\n",
    "k = 3,\\ B_{P_0P_1P_2P_3} &= (1 - t)B_{P_0P_1P_2} + t B_{P_1P_2P_3}\\\\\n",
    "&= P_0 + (-3 P_0 + 3 P_1) t + (3 P_0 - 6 P_1 + 3 P_2) t^2 \\\\&+ (-P_0 + 3 P_1 - \n",
    "    3 P_2 + P_3) t^3\n",
    "\\end{aligned}$"
   ]
  }
 ],
 "metadata": {
  "language_info": {
   "name": "python"
  }
 },
 "nbformat": 4,
 "nbformat_minor": 2
}
