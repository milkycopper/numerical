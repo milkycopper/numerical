{
 "cells": [
  {
   "cell_type": "markdown",
   "metadata": {},
   "source": [
    "# 最小二乘问题"
   ]
  },
  {
   "cell_type": "markdown",
   "metadata": {},
   "source": [
    "### 不完备方程组\n",
    "\n",
    "不完备的方程组 $Ax = b$, 其中 $A$ 是一个 $m \\times n$ 矩阵，$x$ 是一个长度为 $n$ 的列向量，$b$ 是一个长度为 $b$ 的列向量，若 $m > n$，则方程组是不完备的。\n",
    "\n",
    "从另一个角度考虑，可以看成是 $n$ 个 $m$ 维的向量 $[v_1, v_2, ..., v_n]$ 的线性组合要求其等于一个 $m$ 维的向量 $b$，即要求 $b$ 位于 $n$ 个向量张成的子空间中，因此常常是无解的。 "
   ]
  },
  {
   "cell_type": "markdown",
   "metadata": {},
   "source": [
    "最小二乘问题就可以定义为，在 $n$ 个 $m$ 维的向量 $[v_1, v_2, ..., v_n]$ 张成的子空间中，找到一个向量 $A \\bar{x}$ 使得 $b - A \\bar{x}$ 的欧几里得长度最小，此时 $b - A \\bar{x}$ 必定不在 $[v_1, v_2, ..., v_n]$ 张成的子空间中"
   ]
  },
  {
   "cell_type": "markdown",
   "metadata": {},
   "source": [
    "因此有 $$(A x)^T(b - A \\bar{x}) = 0$$ for all $x$ in $R^n$"
   ]
  },
  {
   "cell_type": "markdown",
   "metadata": {},
   "source": [
    "于是有 $A^T(b - A \\bar{x}) = 0$，即 $$A^T A \\bar{x} = A^T b$$ 解出 $\\bar x$ 则最小二乘问题得解"
   ]
  },
  {
   "cell_type": "markdown",
   "metadata": {},
   "source": [
    "#### 最小二乘的误差\n",
    "\n",
    "$r = b - A \\bar x$\n",
    "\n",
    "* 方差\n",
    "\n",
    "    $SE = ||r||_2 = \\sqrt{r_1^2 + \\cdots + r_n^2}$\n",
    "\n",
    "* 均方根误差\n",
    "\n",
    "    $RMSE = \\sqrt{SE/m}$"
   ]
  },
  {
   "cell_type": "markdown",
   "metadata": {},
   "source": [
    "### condition number"
   ]
  },
  {
   "cell_type": "markdown",
   "metadata": {},
   "source": [
    "直接求解 $A^T A \\bar{x} = A^T b$，$A^T A$ 会导致 condition number 变成原来的平方，放大数值误差"
   ]
  },
  {
   "cell_type": "markdown",
   "metadata": {},
   "source": [
    "### 最小二乘拟合与傅里叶变换之间的关系\n",
    "\n",
    "可以通过最小二乘拟合求得傅里叶系数"
   ]
  }
 ],
 "metadata": {
  "language_info": {
   "name": "python"
  }
 },
 "nbformat": 4,
 "nbformat_minor": 2
}
