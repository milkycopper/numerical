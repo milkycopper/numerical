{
 "cells": [
  {
   "cell_type": "markdown",
   "metadata": {},
   "source": [
    "# QR 分解"
   ]
  },
  {
   "cell_type": "markdown",
   "metadata": {},
   "source": [
    "### 施密特正交化\n",
    "\n",
    "* 施密特正交化问题\n",
    "\n",
    "    设 $A_1,...,A_n$ 是 $R^m$ 中的一组线性无关的向量，因此 $n \\leq m$。正交化即对 $A_1,...,A_n$ 张成的 $n$ 维子空间找到一组正交基。"
   ]
  },
  {
   "cell_type": "markdown",
   "metadata": {},
   "source": [
    "* 施密特正交化方法\n",
    "\n",
    "    $$y_1 = A_1\\ and\\ q_1 = \\frac{y_1}{||y_1||_2}$$\n",
    "\n",
    "    对 $j = 2,...,n$\n",
    "\n",
    "    $$y_j = A_j - \\sum_{i=1}^{j-1}q_i(q_i^T A_j)$$\n",
    "\n",
    "    $$q_j = \\frac{y_j}{||y_j||_2}$$"
   ]
  },
  {
   "cell_type": "markdown",
   "metadata": {},
   "source": [
    "定义 $r_{jj} = ||y_j||_2$ 且 $r_{ij} = q_i^T A_j$ 则施密特正交化可写成矩阵相乘的形式\n",
    "\n",
    "$$\n",
    "\\left(A_1|\\cdots| A_n\\right)=\\left(q_1|\\cdots| q_n\\right)\\left[\\begin{array}{cccc}\n",
    "r_{11} & r_{12} & \\cdots & r_{1 n} \\\\\n",
    "& r_{22} & \\cdots & r_{2 n} \\\\\n",
    "& & \\ddots & \\vdots \\\\\n",
    "& & & r_{n n}\n",
    "\\end{array}\\right]\n",
    "$$"
   ]
  },
  {
   "cell_type": "markdown",
   "metadata": {},
   "source": [
    "#### 修正的施密特正交化\n",
    "\n",
    "Let $A_j, j=1, \\ldots, n$ be linearly independent vectors.\n",
    "\n",
    "for $j=1,2, \\ldots, n$\\\n",
    "$\\quad$ $y=A_j$\\\n",
    "$\\quad$ for $i=1,2, \\ldots, j-1$\\\n",
    "$\\quad$ $\\quad$ $r_{i j}=q_i^T y$\\\n",
    "$\\quad$ $\\quad$ $y=y-r_{i j} q_i$\\\n",
    "$\\quad$ end\\\n",
    "$\\quad$ $r_{j j}=\\|y\\|_2$\\\n",
    "$\\quad$ $q_j=y / r_{j j}$\\\n",
    "end"
   ]
  },
  {
   "cell_type": "markdown",
   "metadata": {},
   "source": [
    "### QR 分解\n",
    "\n",
    "给定一个 $m \\times n$ 的矩阵 $\\left(A_1|\\cdots| A_n\\right)$, 通过新增一些与 $A_i$ 线性无关的 $m$ 维向量，找到一组 $m$ 个的正交基，从而可以将矩阵分解为\n",
    "\n",
    "$$\n",
    "\\left(A_1|\\cdots| A_n\\right)=\\left(q_1|\\cdots| q_m\\right)\\left[\\begin{array}{cccc}\n",
    "r_{11} & r_{12} & \\cdots & r_{1 n} \\\\\n",
    "& r_{22} & \\cdots & r_{2 n} \\\\\n",
    "& & \\ddots & \\vdots \\\\\n",
    "& & & r_{n n} \\\\\n",
    "0 & \\cdots & \\cdots & 0 \\\\\n",
    "\\vdots & & & \\vdots \\\\\n",
    "0 & \\cdots & \\cdots & 0\n",
    "\\end{array}\\right]\n",
    "$$"
   ]
  },
  {
   "cell_type": "markdown",
   "metadata": {},
   "source": [
    "QR 分解其实是将矩阵正交化的过程，矩阵正交化有两个明显的好处\n",
    "\n",
    "1. 矩阵求逆非常简单\n",
    "2. 正交矩阵的 condition number 等于 1，不会放大误差"
   ]
  },
  {
   "cell_type": "markdown",
   "metadata": {},
   "source": [
    "使用施密特正交化进行 QR 分解的复杂度为 $O(m^3)$"
   ]
  },
  {
   "cell_type": "markdown",
   "metadata": {},
   "source": [
    "#### QR 分解的应用\n",
    "\n",
    "1. $n \\times n$ 方程组的求根\n",
    "\n",
    "    $Ax=b=QRx$, 于是 $Rx=Q^{-1}b=Q^Tb$, 若 $A$ 是非奇异矩阵，则 $R$ 为非奇异矩阵，通过回代可解。复杂度为 LU 分解的 3 倍"
   ]
  },
  {
   "cell_type": "markdown",
   "metadata": {},
   "source": [
    "2. 求最小二乘\n",
    "\n",
    "    $||Ax-b||_2 = ||QRx-b||_2 = ||Rx-Q^T b||_2$"
   ]
  },
  {
   "cell_type": "markdown",
   "metadata": {},
   "source": [
    "$$\n",
    "Rx-Q^Tb=\\left[\\begin{array}{c}\n",
    "e_1 \\\\\n",
    "\\vdots \\\\\n",
    "e_n \\\\\n",
    "\\hdashline e_{n+1} \\\\\n",
    "\\vdots \\\\\n",
    "e_m\n",
    "\\end{array}\\right]=\\left[\\begin{array}{cccc}\n",
    "r_{11} & r_{12} & \\cdots & r_{1 n} \\\\\n",
    "& r_{22} & \\cdots & r_{2 n} \\\\\n",
    "& & \\ddots & \\vdots \\\\\n",
    "& & & r_{n n} \\\\\n",
    "\\hdashline 0 & \\cdots & \\cdots & 0 \\\\\n",
    "\\vdots & & & \\vdots \\\\\n",
    "0 & \\cdots & \\cdots & 0\n",
    "\\end{array}\\right]\\left[\\begin{array}{c}\n",
    "x_1 \\\\\n",
    "\\vdots \\\\\n",
    "x_n\n",
    "\\end{array}\\right]-\\left[\\begin{array}{c}\n",
    "d_1 \\\\\n",
    "\\vdots \\\\\n",
    "d_n \\\\\n",
    "\\hdashline d_{n+1} \\\\\n",
    "\\vdots \\\\\n",
    "d_m\n",
    "\\end{array}\\right]\n",
    "$$"
   ]
  },
  {
   "cell_type": "markdown",
   "metadata": {},
   "source": [
    "下半部的误差是不变的，上半部的误差可通过回代解出 $x_i$ 使其为 $0$"
   ]
  },
  {
   "cell_type": "markdown",
   "metadata": {},
   "source": [
    "3. 特征值求解"
   ]
  },
  {
   "cell_type": "markdown",
   "metadata": {},
   "source": [
    "### Householder 反射器\n",
    "\n",
    "虽然修正的施密特正交化优于经典的施密特正交化，但还有更好的正交化方法，所需操作更少，在误差放大方面也更加稳定，那就是 Householder reflectors"
   ]
  },
  {
   "cell_type": "markdown",
   "metadata": {},
   "source": [
    "给定两个长度相等的向量 $||x||_2 = ||w||_2$, 令向量 $v = w - x$, 可以定义反射矩阵\n",
    "\n",
    "$$P = \\frac{vv^T}{v^Tv}$$"
   ]
  },
  {
   "cell_type": "markdown",
   "metadata": {},
   "source": [
    "反射矩阵具有如下性质\n",
    "\n",
    "* $P^2$ = $P$\n",
    "* $P$ 是对称矩阵\n",
    "* $P v = v$\n",
    "* $P u$ 把 $u$ 投影到 $v$ 上"
   ]
  },
  {
   "cell_type": "markdown",
   "metadata": {},
   "source": [
    "定义 Householder 反射器 $H = I - 2P$, 反射器把向量按 $v$ 定义的反射平面进行反射，反射器具有如下性质\n",
    "\n",
    "* $H$ 是对称正交的矩阵\n",
    "* $Hx = w$"
   ]
  },
  {
   "cell_type": "markdown",
   "metadata": {},
   "source": [
    "### 利用 Householder 反射器进行 QR 分解"
   ]
  },
  {
   "cell_type": "markdown",
   "metadata": {},
   "source": [
    "$A = QR$, 其中 $R$ 是上三角矩阵，第 $i$ 次迭代使用一个 Householder 反射器使得第 $i$ 列满足上三角矩阵。以第 1 列为例，令 $x_1$ 为矩阵 $A$ 的第一列，$w = \\pm (||x_1||_2,0,...,0)$, 由 $x_1$ 和 $w$ 可得反射器 $H_1$。则 $H_1 A$ 的第一列满足上三角矩阵的条件。依此类推，可以得到\n",
    "\n",
    "$$A = H_1H_2...H_nR = QR$$\n",
    "\n",
    "相比于施密特正交化，优势在于\n",
    "\n",
    "1. 基向量有更好的正交性\n",
    "2. 计算量更小\n",
    "3. 所需内存更小"
   ]
  },
  {
   "cell_type": "markdown",
   "metadata": {},
   "source": [
    "### 讨论\n",
    "\n",
    "QR 分解不是唯一的，令 $D = diag(d_1,...,d_m)$, 其中 $d_i = \\pm 1$。则 $A = QR = QDDR$ 可以得出新的分解"
   ]
  }
 ],
 "metadata": {
  "language_info": {
   "name": "python"
  }
 },
 "nbformat": 4,
 "nbformat_minor": 2
}
