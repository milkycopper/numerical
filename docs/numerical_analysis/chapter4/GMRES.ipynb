{
 "cells": [
  {
   "cell_type": "markdown",
   "metadata": {},
   "source": [
    "# Generalized Minimum Residual Method (GMRES)"
   ]
  },
  {
   "cell_type": "markdown",
   "metadata": {},
   "source": [
    "该方法是大型稀疏非对称线性方程组 $Ax=b$ 的迭代解法"
   ]
  },
  {
   "cell_type": "markdown",
   "metadata": {},
   "source": [
    "### Krylov 空间\n",
    "\n",
    "Krylov 空间是 ${r, Ar, ..., A^kr}$ 张成的空间，其中 $r = b - A x_0$，$x_0$ 为方程组解的初始猜测值"
   ]
  },
  {
   "cell_type": "markdown",
   "metadata": {},
   "source": [
    "有一类方法依赖于 Krylov 空间的正交基底的精确计算，这类方法称为 Krylov 方法，GMRES 方法是 Krylov 方法的成员。而正交基底的计算依赖于施密特正交化或 Householder 反射等方法"
   ]
  },
  {
   "cell_type": "markdown",
   "metadata": {},
   "source": [
    "### GMRES 算法\n",
    "\n",
    "$x_0=$ initial guess\\\n",
    "$r=b-A x_0$\\\n",
    "$q_1=r /\\|r\\|_2$\\\n",
    "for $k=1,2, \\ldots, m$\\\n",
    "$\\quad$ $y=A q_k$\\\n",
    "$\\quad$ for $j=1,2, \\ldots, k$\\\n",
    "$\\quad$ $\\quad$ $h_{j k}=q_j^T y$\\\n",
    "$\\quad$ $\\quad$ $y=y-h_{j k} q_j$\\\n",
    "$\\quad$ end\\\n",
    "$\\quad$ $h_{k+1, k}=\\|y\\|_2$ (If $h_{k+1, k}=0$, skip next line and terminate at bottom.)\\\n",
    "$\\quad$ $q_{k+1}=y / h_{k+1, k}$\\\n",
    "$\\quad$ Minimize $\\left\\|H c_k-\\left[\\begin{array}{lllll}\\|r\\|_2 & 0 & 0 & \\ldots & 0\\end{array}\\right]^T\\right\\|_2$ for $c_k$\\\n",
    "$\\quad$ $x_k=Q_k c_k+x_0$\\\n",
    "end"
   ]
  },
  {
   "cell_type": "markdown",
   "metadata": {},
   "source": [
    "$Q$ 矩阵是 Krylov 空间的基底矩阵，$H$ 矩阵的计算使得其满足 $A Q_k = Q_{k+1}H_k$"
   ]
  },
  {
   "cell_type": "markdown",
   "metadata": {},
   "source": [
    "在 krylov 空间中搜索 $x_{add}$，使得 $b - A(x_0 + x_{add})$ 的模最小\n",
    "\n",
    "$$||b - A(x_0 + x_{add})||_2 = ||r - Ax_{add}||_2 \\\\ = ||AQ_kc - r||_2 = ||Q_{k+1}H_kc - r||_2 = ||H_kc-Q_{k+1}^Tr||_2$$"
   ]
  },
  {
   "cell_type": "markdown",
   "metadata": {},
   "source": [
    "其中 $Q_{k+1}^Tr = [||r||_2\\ 0\\ 0\\ ...\\ 0]^T$，所以问题转化为\n",
    "\n",
    "$\\quad$ Minimize $\\left\\|H c_k-\\left[\\begin{array}{lllll}\\|r\\|_2 & 0 & 0 & \\ldots & 0\\end{array}\\right]^T\\right\\|_2$ for $c_k$"
   ]
  },
  {
   "cell_type": "markdown",
   "metadata": {},
   "source": [
    "### 算法要点\n",
    "\n",
    "* 算法中计算复杂度最高的部分是 $\\left\\|H c_k-\\left[\\begin{array}{lllll}\\|r\\|_2 & 0 & 0 & \\ldots & 0\\end{array}\\right]^T\\right\\|_2$ 的最小二乘问题\n",
    "\n",
    "* 通常情况下 k 远小于 n\n",
    "\n",
    "* 每次迭代的残差是单调递减的\n",
    "\n",
    "* 最小二乘问题并不一定需要在每次迭代都求解，可以只在需要 $x_k$ 的时候求解\n",
    "\n",
    "* 施密特正交化可以被 Householder 反射替代，以减小 condition number 过大的问题\n",
    "\n",
    "* 通常 n 远大于 k，但 $Q_k$ 并不是稀疏矩阵，因此内存会限制 k 的大小，k 不能太大\n",
    "\n",
    "* Restarted GMRES: 迭代 k 次后用新的 $x_k$ 替代 $x_0$, 再从头开始算法\n",
    "\n",
    "* Preconditioned GMRES: 减小 condition number 的有效方法"
   ]
  }
 ],
 "metadata": {
  "language_info": {
   "name": "python"
  }
 },
 "nbformat": 4,
 "nbformat_minor": 2
}
