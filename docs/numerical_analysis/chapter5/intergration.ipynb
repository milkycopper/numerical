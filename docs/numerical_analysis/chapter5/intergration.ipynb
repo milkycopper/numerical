{
 "cells": [
  {
   "cell_type": "markdown",
   "metadata": {},
   "source": [
    "# 数值积分"
   ]
  },
  {
   "cell_type": "markdown",
   "metadata": {},
   "source": [
    "### 基于插值或拟合的积分\n",
    "\n",
    "选取采样点，使用简单的插值或拟合函数来近似原函数，求其积分"
   ]
  },
  {
   "cell_type": "markdown",
   "metadata": {},
   "source": [
    "### 积分方法的精确度阶数\n",
    "\n",
    "即可以使用该方法无误差积分的多项式函数最高阶数"
   ]
  },
  {
   "cell_type": "markdown",
   "metadata": {},
   "source": [
    "### 两点插值积分\n",
    "\n",
    "对函数 $f(x)$ 在区间 $[x_0, x_1]$ 进行积分，根据多项式插值公式\n",
    "\n",
    "$$f(x) = y_0\\frac{x-x_1}{x_0-x_1} + y_1\\frac{x-x_0}{x_1-x_0} + \\frac{(x-x_0)(x-x_1)}{2!}f''(c_x) = P(x) + E(x)$$\n",
    "\n",
    "$$\\int_{x_0}^{x_1}f(x)dx = \\int_{x_0}^{x_1}P(x)dx + \\int_{x_0}^{x_1}E(x)dx \n",
    "= h\\frac{y_0 + y_1}{2} - \\frac{h^3}{12}f''(c)\n",
    "$$\n",
    "\n",
    "其中 $h = x_1 - x_0$"
   ]
  },
  {
   "cell_type": "markdown",
   "metadata": {},
   "source": [
    "把大区间均分为多个小区间，再积分\n",
    "\n",
    "$$\\int_a^b f(x)dx = \\frac{h}{2}(y_0 + y_m + 2\\sum_{i = 1}^{m - 1}y_i) - \\frac{(b-a)h^2}{12}f''(c)$$"
   ]
  },
  {
   "cell_type": "markdown",
   "metadata": {},
   "source": [
    "### 三点插值积分\n",
    "\n",
    "$$f(x) = y_0\\frac{(x-x_1)(x-x_2)}{(x_0-x_1)(x_0-x_2)} + y_1\\frac{(x-x_0)(x-x_2)}{(x_1-x_0)(x_1-x_2)} + y_2\\frac{(x-x_0)(x-x_1)}{(x_2-x_0)(x_2-x_1)}\\\\ + \\frac{(x-x_0)(x-x_1)(x-x_2)}{3!}f'''(c_x) = P(x) + E(x)$$\n",
    "\n",
    "$$\\int_{x_0}^{x_2}f(x)dx = \\int_{x_0}^{x_2}P(x)dx + \\int_{x_0}^{x_2}E(x)dx \n",
    "= \\frac{h}{3}(y_0+4y_1+y_2) - \\frac{h^5}{90}f^{(4)}(c)\n",
    "$$\n",
    "\n",
    "其中 $h = x_2 - x_1 = x_1 - x_0$"
   ]
  },
  {
   "cell_type": "markdown",
   "metadata": {},
   "source": [
    "把大区间均分为多个小区间，再积分\n",
    "\n",
    "$$\\int_a^b f(x)dx = \\frac{h}{3}(y_0 + y_{2m} + 4\\sum_{i = 1}^{m}y_{2i-1} + 2\\sum_{i = 1}^{m-1}y_{2i}) - \\frac{(b-a)h^4}{180}f^{(4)}(c)$$"
   ]
  },
  {
   "cell_type": "markdown",
   "metadata": {},
   "source": [
    "### 中值积分\n",
    "\n",
    "设区间中点为 $w$, 在区间上，根据泰勒公式\n",
    "\n",
    "$$f(x) = f(w) + (x - w)f'(w) + \\frac{1}{2}(x - w)^2f''(c_x)$$\n",
    "\n",
    "$$\\int_{x_0}^{x_1}f(x)dx = hf(w) + \\frac{h^3}{24}f''(c)$$"
   ]
  },
  {
   "cell_type": "markdown",
   "metadata": {},
   "source": [
    "### Romberg 积分\n",
    "\n",
    "下面开始讨论一种，通过增加新的数据点来逐渐达到所需精度的积分方法。\n",
    "\n",
    "Romberg 积分每次迭代增加一倍的样本数据点，求一个新的组合两点插值积分。然后再利用外推，得到更高阶的积分结果。算法如下\n",
    "\n",
    "$R_{11} = (b - a)\\frac{f(a) + f(b)}{2}$\\\n",
    "for $j = 2,3,...$\\\n",
    "$\\quad$ $h_j = \\frac{b - a}{2^{j - 1}}$\\\n",
    "$\\quad$ $R_{j1} = \\frac{1}{2}R_{j-1,1} + h_j\\sum^{2^{j-2}}_{i=1}f(a+(2i-1)h_j)$\\\n",
    "$\\quad$ for $k = 2,...,j$\\\n",
    "$\\quad$ $\\quad$ $R_{jk} = \\frac{4^{k-1}R_{j,k-1}-R_{j-1,k-1}}{4^{k-1}-1}$\\\n",
    "$\\quad$ end\\\n",
    "end"
   ]
  },
  {
   "cell_type": "markdown",
   "metadata": {},
   "source": [
    "### 可变步长的积分\n",
    "\n",
    "解决两个问题\n",
    "\n",
    "* 积分步长如何确定\n",
    "* 不同部位函数变化剧烈程度不同，应当使用不同步长来积分"
   ]
  },
  {
   "cell_type": "markdown",
   "metadata": {},
   "source": [
    "记 $S_{[a,b]}$ 为区间 $[a,b]$ 内的积分结果，使用两点积分或三点积分都可以，确定步长的关键点在于可以根据 \n",
    "$$S_{[a, b]}-(S_{[a, c]} + S_{[c, b]})$$ \n",
    "的大小来估算当前的积分误差，如果该误差不满足要求，就应该将区间继续细分"
   ]
  },
  {
   "cell_type": "markdown",
   "metadata": {},
   "source": [
    "### 高斯积分\n",
    "\n",
    "使用 $n+1$ 个点可以获得 $2n+1$ 阶的积分精确度，是 Newton-Cotes 方法的两倍"
   ]
  },
  {
   "cell_type": "markdown",
   "metadata": {},
   "source": [
    "#### 正交函数\n",
    "\n",
    "区间 $[a,b]$ 上的一组非零正交函数 $\\{ p_0,...,p_n \\}$ 满足\n",
    "\n",
    "$$\\int_a^b p_j(x)p_k(x)dx  \\begin{cases}=0, j\\neq k\\\\ \\neq 0, j=k\\end{cases}$$"
   ]
  },
  {
   "cell_type": "markdown",
   "metadata": {},
   "source": [
    "* 性质 1\n",
    "\n",
    "    如果区间 $[a,b]$ 上的一组非零正交函数 $\\{ p_0,...,p_n \\}$ 同时满足 $p_i$ 的阶数为 $i$, 则这组函数是阶数不超过 $n$ 的多项式函数组成的线性空间的一组基底，且函数 $p_i$ 在区间 $(a,b)$ 上有 $i$ 个不同的根"
   ]
  },
  {
   "cell_type": "markdown",
   "metadata": {},
   "source": [
    "#### 勒让德多项式\n",
    "\n",
    "勒让德多项式 \n",
    "$$p_i(x) = \\frac{1}{2^i i!}\\frac{d^i}{dx^i}[(x^2-1)^i], i=0,1,...,n$$\n",
    "是区间 $[-1,1]$ 上的一组正交基函数"
   ]
  },
  {
   "cell_type": "markdown",
   "metadata": {},
   "source": [
    "设 $n$ 阶勒让德多项式在 $[-1, 1]$ 上的 $n$ 个不同的根为 $x_1, x_2,...,x_n$, 根据拉格朗日插值公式，这 $n$ 个采样点上对 $f(x)$ 得到的插值多项式函数为\n",
    "\n",
    "$$Q(x) =\\sum_{i = 1}^n L_i(x)f(x_i) = \\sum_{i = 1}^n f(x_i) \\frac{\\prod_{j = 1,i \\neq j}^n (x - x_j)}{\\prod_{j = 1,i \\neq j}^n (x_i - x_j)}$$"
   ]
  },
  {
   "cell_type": "markdown",
   "metadata": {},
   "source": [
    "于是高斯积分为\n",
    "\n",
    "$$\\int_{-1}^1 f(x)dx \\approx \\int_{-1}^1 Q(x)dx = \\sum_{i = 1}^n f(x_i)\\int_{-1}^1 L_i(x)dx $$\n",
    "\n",
    "其中 $x_i, \\int_{-1}^1 L_i(x)dx$ 都可以通过查表获得精确值"
   ]
  }
 ],
 "metadata": {
  "language_info": {
   "name": "python"
  }
 },
 "nbformat": 4,
 "nbformat_minor": 2
}
