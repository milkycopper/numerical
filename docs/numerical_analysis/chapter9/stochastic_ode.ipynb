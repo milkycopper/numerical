{
 "cells": [
  {
   "cell_type": "markdown",
   "metadata": {},
   "source": [
    "# 随机微分方程\n",
    "\n",
    "在微分方程中考虑确定性模型之外的随机因素"
   ]
  },
  {
   "cell_type": "markdown",
   "metadata": {},
   "source": [
    "ODE 的解是函数，而随机微分方程的解则是随机过程"
   ]
  },
  {
   "cell_type": "markdown",
   "metadata": {},
   "source": [
    "定义\n",
    "\n",
    "一组由实数 $t \\geq 0$ 标记的随机变量 $x_t$ 称为连续时间随机过程。\n",
    "\n",
    "因此 $x_t$ 是 $t$ 的函数。布朗运动 $B_t$ 就是随机过程"
   ]
  },
  {
   "cell_type": "markdown",
   "metadata": {},
   "source": [
    "由于随机过程通常是不可微的，因此随机微分方程应该写成积分方程的形式\n",
    "\n",
    "$$dy = f(t, y)dt + g(t, y)dB_t$$\n",
    "\n",
    "本质是如下积分方程\n",
    "\n",
    "$$y(t) - y(0) = \\int_0^t f(s, y)ds + \\int_0^t g(s, y)dB_s$$"
   ]
  },
  {
   "cell_type": "markdown",
   "metadata": {},
   "source": [
    "在区间 $[a, b]$ 选取网格点 $a = t_0 < t_1 < \\cdots < t_{n-1} < t_n = b$,黎曼积分定义为\n",
    "\n",
    "$$\\int_a^b f(t) dt = {lim}_{\\Delta t \\rarr 0} \\sum_{i=1}^n f(t'_i)\\Delta t_i$$"
   ]
  },
  {
   "cell_type": "markdown",
   "metadata": {},
   "source": [
    "其中 $\\Delta t_i = t_i - t_{i-1}, t_{i-1} \\leq t'_{i} \\leq t_i$\n",
    "\n",
    "类似的，伊藤积分\n",
    "\n",
    "$$I = \\int_a^b f(t) dB_t = {lim}_{\\Delta t \\rarr 0} \\sum_{i=1}^n f(t_{i-1})\\Delta B_i$$"
   ]
  },
  {
   "cell_type": "markdown",
   "metadata": {},
   "source": [
    "其中 $\\Delta B_i = B_{t_i} - B_{t_{i-1}}$"
   ]
  },
  {
   "cell_type": "markdown",
   "metadata": {},
   "source": [
    "由于 $f$ 和 $B_t$ 都是随机变量，因此积分 $I$ 也是随机变量。布朗运动的微分 $dB_t$ 称为白噪声"
   ]
  },
  {
   "cell_type": "markdown",
   "metadata": {},
   "source": [
    "最简单的案例是 $dy(t) = rdt + \\sigma dB_t$，其中 $r, \\sigma$ 为常数，积分可的\n",
    "\n",
    "$$y(t) = y_0 + rt + \\sigma B_t$$"
   ]
  },
  {
   "cell_type": "markdown",
   "metadata": {},
   "source": [
    "### 数值积分\n",
    "\n",
    "随机微分方程的数值积分需要考虑 $B_t$ 的正态分布乘以时间步长。"
   ]
  }
 ],
 "metadata": {
  "language_info": {
   "name": "python"
  }
 },
 "nbformat": 4,
 "nbformat_minor": 2
}
