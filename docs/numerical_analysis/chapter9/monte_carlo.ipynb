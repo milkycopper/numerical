{
 "cells": [
  {
   "cell_type": "markdown",
   "metadata": {},
   "source": [
    "# 蒙特卡罗法\n",
    "\n",
    "基于伪随机数的 1 型和 2 型蒙特卡罗的标准差正比于试验次数 $n^{-\\frac{1}{2}}$，方差正比于 $\\frac{1}{n}$"
   ]
  },
  {
   "cell_type": "markdown",
   "metadata": {},
   "source": [
    "### 准随机数\n",
    "\n",
    "均匀排列但是随机顺序。牺牲一定的独立性。准随机数的重点不在独立性，而在于避免与之前的重复，从而提升蒙特卡罗方法的收敛速度"
   ]
  },
  {
   "cell_type": "markdown",
   "metadata": {},
   "source": [
    "* 一种准随机数产生法\n",
    "\n",
    "    选取一个基底 $p$，如 $p = 2$。第 $i$ 个随机数这样产生\n",
    "\n",
    "    1. 写出 $i$ 在 $p$ 下的表示 $(b_k b_{k-1} \\cdots b_2 b_1)_p$\n",
    "    2. 将序列逆转排列，得到一个小数 $0.b_1b_2\\cdots b_{k-1}b_k$\n",
    "    3. 这个小数转成十进制即得第 $i$ 个随机数"
   ]
  },
  {
   "cell_type": "markdown",
   "metadata": {},
   "source": [
    "使用准随机数的蒙特卡罗方法的收敛速度快于使用伪随机数\n",
    "\n",
    "* 对 1 型蒙特卡罗\n",
    "\n",
    "    误差正比于 $(\\text{ln}\\ n)^d n^{-1}$\n",
    "\n",
    "* 对 2 型蒙特卡罗\n",
    "\n",
    "    误差正比于 $n^{-\\frac{1}{2}-\\frac{1}{2d}}$"
   ]
  }
 ],
 "metadata": {
  "language_info": {
   "name": "python"
  }
 },
 "nbformat": 4,
 "nbformat_minor": 2
}
