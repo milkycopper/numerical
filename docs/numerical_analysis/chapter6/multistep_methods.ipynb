{
 "cells": [
  {
   "cell_type": "markdown",
   "metadata": {},
   "source": [
    "# 多步法\n",
    "\n",
    "* 单步法\n",
    "\n",
    "    下一步的 $w_{i+1}$ 只由微分方程和上一步的 $w_i$ 得出\n",
    "\n",
    "* 多步法\n",
    "\n",
    "    下一步的 $w_{i+1}$ 只由微分方程和前几步的 $w$ 得出"
   ]
  },
  {
   "cell_type": "markdown",
   "metadata": {},
   "source": [
    "### Adams–Bashforth 两步法\n",
    "\n",
    "$$w_{i+1} = w_i + h[\\frac{3}{2}f(t_i, w_i) - \\frac{1}{2}f(t_{i-1}, w_{i-1})]$$\n",
    "\n",
    "每步只需要对函数 $f$ 进行一次计算"
   ]
  },
  {
   "cell_type": "markdown",
   "metadata": {},
   "source": [
    "### 多步法公式\n",
    "\n",
    "$$w_{i+1} = a_1w_1 + a_2w_{i-1} + \\cdots + a_sw_{i-s+1} + h[b_0f_{i+1} + b_1f_i + b_2f_{i-1} + \\cdots + b_sf_{i-s+1}]$$\n",
    "\n",
    "其中 $f_i$ 即 $f(t_i, w_i)$\n",
    "\n",
    "如果 $b_0 = 0$ 则为显式法，否则为隐式法。\n",
    "\n",
    "其中各个系数的选择需要满足展开后与泰勒展开相减后的误差项最小。这时系数的选择仍有自由度，需要继续限制系数的选择范围，来获得稳定的（stable）的迭代公式。\n",
    "\n",
    "如果特征多项式 $P(x) = x^s - a_1x^{s-1} - \\cdots - a_s$ 的所有根都属于 $[-1, 1]$, 且绝对值为 $1$ 的根不是多重根，则该多步法式是稳定的。如果多步法是稳定的，同时绝对值为 $1$ 的根等于 $1$ 而不等于 $-1$，则是强稳定的，否则是弱稳定的。"
   ]
  },
  {
   "cell_type": "markdown",
   "metadata": {},
   "source": [
    "阶数大于等于 $1$ 的多步法，我们称为一致的。如果一个求解器的解在 $h \\rarr 0$ 时收敛，我们称求解器是收敛的。有如下定理\n",
    "\n",
    "    多步法是收敛的当且仅当它是稳定的且一致的，这时特征多项式必有一个根是 $1$"
   ]
  },
  {
   "cell_type": "markdown",
   "metadata": {},
   "source": [
    "### Adams–Bashforth 三步法（三阶）\n",
    "\n",
    "$$w_{i+1} = w_i + \\frac{h}{12}[23f_i - 16f_{i-1} + 5f_{i-2}]$$\n",
    "\n",
    "### Adams–Bashforth 四步法（四阶）\n",
    "\n",
    "$$w_{i+1} = w_i + \\frac{h}{24}[55f_i - 59f_{i-1} + 37f_{i-2} - 9f_{i-3}]$$"
   ]
  },
  {
   "cell_type": "markdown",
   "metadata": {},
   "source": [
    "### 隐式多步法\n",
    "\n",
    "* Adams–Moulton 隐式单步法（二阶）\n",
    "\n",
    "$$w_{i+1} = w_i + \\frac{h}{2}[f_{i+1} + f_i]$$\n",
    "\n",
    "* Adams–Moulton 隐式两步法（三阶）\n",
    "\n",
    "$$w_{i+1} = w_i + \\frac{h}{12}[5f_{i+1} + 8f_i - f_{i-1}]$$\n",
    "\n",
    "* Adams–Moulton 隐式三步法（四阶）\n",
    "\n",
    "$$w_{i+1} = w_i + \\frac{h}{24}[9f_{i+1} + 19f_i - 5f_{i-1} + f_{i-2}]$$\n",
    "\n",
    "* Adams–Moulton 隐式四步法（五阶）\n",
    "\n",
    "$$w_{i+1} = w_i + \\frac{h}{720}[251f_{i+1} + 646f_i - 264f_{i-1} + 106f_{i-2} - 19f_{i-3}]$$"
   ]
  },
  {
   "cell_type": "markdown",
   "metadata": {},
   "source": [
    "隐式多步法的特点：\n",
    "\n",
    "- 使用两个前级结果就能得到三阶稳定的结果\n",
    "- 单步局部误差必显式法更小\n",
    "- 需要额外的计算来求解隐式方程"
   ]
  },
  {
   "cell_type": "markdown",
   "metadata": {},
   "source": [
    "#### predictor–corrector pair\n",
    "\n",
    "用一个显式求解器和一个同阶的隐式求解器配对，显式求解器作为预测器，隐式求解器作为修正器，用显式求解器得到的 $w_{i+1}$ 来计算隐式求解器所需的 $f_{i+1}$，这样只需多算一次 $f$，就可以获得更高的精度"
   ]
  }
 ],
 "metadata": {
  "language_info": {
   "name": "python"
  }
 },
 "nbformat": 4,
 "nbformat_minor": 2
}
