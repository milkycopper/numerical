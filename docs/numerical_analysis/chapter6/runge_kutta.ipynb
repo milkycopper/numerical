{
 "cells": [
  {
   "cell_type": "markdown",
   "metadata": {},
   "source": [
    "# 龙格库塔法\n",
    "\n",
    "### 二阶龙格库塔法（中点法）\n",
    "\n",
    "$$\n",
    "w_0 = y_0\\\\\n",
    "w_{i+1} = w_i + hf(t_i + \\frac{h}{2}, w_i + \\frac{h}{2}f(t_i, w_i))\n",
    "$$"
   ]
  },
  {
   "cell_type": "markdown",
   "metadata": {},
   "source": [
    "### 四阶龙格库塔法\n",
    "\n",
    "$$w_{i+1} = w_i + \\frac{h}{6}(s_1 + 2s_2 + 2s_3 + s_4)$$\n",
    "\n",
    "其中\n",
    "\n",
    "$$\\begin{aligned}\n",
    "s_1 &= f(t_i, w_i)\\\\\n",
    "s_2 &= f(t_i + \\frac{h}{2}, w_i + \\frac{h}{2}s_1)\\\\\n",
    "s_3 &= f(t_i + \\frac{h}{2}, w_i + \\frac{h}{2}s_2)\\\\\n",
    "s_4 &= f(t_i + h, w_i + hs_3)\n",
    "\\end{aligned}$$"
   ]
  },
  {
   "cell_type": "markdown",
   "metadata": {},
   "source": [
    "### 变步长的常微分方程解法\n",
    "\n",
    "关键是估计每一步的误差大小，如果误差超过了允许值，则步长减半，如果误差太小（比如小于允许值的十分之一），则下一步步长翻倍。\n",
    "\n",
    "如果知道所使用的 ODE 求解器的阶数，就可以更精细地控制步长的选取。假设求解器的阶数为 $p$，则单步局部误差为 $e_i = O(h^{p+1})$, 令 $T$ 为单步相对误差的允许上限，则需要保证 $e_i/|w_i| < T$。假设 $e_i \\approx c h_i^{p+1}$, 则最优的步长 $h$ 应满足 $T|w_i| = ch^{p+1}$, 由此可得下一步的步长选择 \n",
    "$$h_{i+1} = 0.8(\\frac{T|w_i|}{e_i})^{\\frac{1}{p+1}}h_i$$\n"
   ]
  },
  {
   "cell_type": "markdown",
   "metadata": {},
   "source": [
    "乘 $0.8$ 是为了保守计算。如果这一步的误差不满足 $e_i/|w_i| < T$，则这一步需要使用上面更新的步长再计算一遍，此时大概率满足误差要求了，如果还不满足就把步长减半继续尝试，知道满足误差要求"
   ]
  },
  {
   "cell_type": "markdown",
   "metadata": {},
   "source": [
    "上述步长选取非常依赖于单步误差 $e_i = |w_{i} - y_i|$ 的估计，这个估计过程应该保证其计算量不会太大。单步误差估计最常用的办法是同时使用一个更高阶的 ODE 求解器。高阶求解器在该步的估计值设为 $z_i$, 那么误差估计值可以认为\n",
    "\n",
    "$$e_i \\approx |z_i - w_i|$$"
   ]
  },
  {
   "cell_type": "markdown",
   "metadata": {},
   "source": [
    "沿着这个思路，可以组成不同阶的龙格库塔对求解器，一对求解器中，一个是 $p$ 阶的，一个是 $p+1$ 阶的，很多计算结果可以在它们之间共享，从而减小计算量。"
   ]
  },
  {
   "cell_type": "markdown",
   "metadata": {},
   "source": [
    "* $RK2/3$\n",
    "\n",
    "    2 阶和 3 阶的龙格库塔求解器组成一对\n",
    "\n",
    "    $$w_{i+1} = w_i + h\\frac{s_1 + s_2}{2}$$\n",
    "    $$z_{i+1} = w_i + h\\frac{s_1 + s_2 + 4s_3}{6}$$\n",
    "\n",
    "    其中\n",
    "\n",
    "    $$\\begin{aligned}\n",
    "    s_1 &= f(t_i, w_i)\\\\\n",
    "    s_2 &= f(t_i + h, w_i + hs_1)\\\\\n",
    "    s_3 &= f(t_i + \\frac{1}{2}h, w_i + \\frac{1}{2}h\\frac{s_1 + s_2}{2})\\\\\n",
    "    \\end{aligned}$$\n",
    "\n",
    "    单步误差估计为\n",
    "\n",
    "    $$e_{i+1} \\approx |w_{i+1} - z_{i+1}| = |h\\frac{s_1 - 2s_3 + s_2}{3}|$$"
   ]
  },
  {
   "cell_type": "markdown",
   "metadata": {},
   "source": [
    "另外还有其他多种 $RK 4/5$ 阶求解器"
   ]
  }
 ],
 "metadata": {
  "language_info": {
   "name": "python"
  }
 },
 "nbformat": 4,
 "nbformat_minor": 2
}
