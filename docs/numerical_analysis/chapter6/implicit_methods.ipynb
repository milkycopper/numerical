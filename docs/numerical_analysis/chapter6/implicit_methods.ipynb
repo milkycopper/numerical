{
 "cells": [
  {
   "cell_type": "markdown",
   "metadata": {},
   "source": [
    "# ODE 的隐式解法\n",
    "\n",
    "### 反向欧拉法\n",
    "\n",
    "$$w_0 = y_0\\\\ w_{i+1} = w_i + hf(t_{i+1}, w_{i+1})$$"
   ]
  },
  {
   "cell_type": "markdown",
   "metadata": {},
   "source": [
    "隐式方法保证了下一个点的导数是正确的，代价是需要对 $w_{i+1}$ 解一个方程。"
   ]
  },
  {
   "cell_type": "markdown",
   "metadata": {},
   "source": [
    "其他高阶解法也有相应的隐式解法版本，隐式解法对于 stiff 型的微分方程问题相对显式方法更加有效"
   ]
  }
 ],
 "metadata": {
  "language_info": {
   "name": "python"
  }
 },
 "nbformat": 4,
 "nbformat_minor": 2
}
