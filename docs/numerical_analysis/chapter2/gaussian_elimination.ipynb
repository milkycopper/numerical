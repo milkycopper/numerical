{
 "cells": [
  {
   "cell_type": "markdown",
   "metadata": {},
   "source": [
    "# Gaussian Elimination"
   ]
  },
  {
   "cell_type": "markdown",
   "metadata": {},
   "source": [
    "### Naive Gaussian Elimination\n",
    "\n",
    "* 消除第 i 列的方法\n",
    "\n",
    "    要求 $a_{ii} \\neq 0$，对 $j = i+1,...,n$ 行，该行减去 $\\frac{a_{ji}}{a_{ii}} \\cdot 第 i 行$ \n",
    "\n",
    "* 时间复杂度为 $O(n^3)$\n",
    "\n",
    "* back-substitution 时间复杂度为 $O(n^2)$"
   ]
  },
  {
   "cell_type": "markdown",
   "metadata": {},
   "source": [
    "### LU 分解\n",
    "\n",
    "对方阵进行高斯消元的过程，即可获得该方阵的 $LU$ 分解\n",
    "\n",
    "* 已知 $LU$ 分解的 back-substitutio\n",
    "\n",
    "$$A x = b = LUx = Lc$$ \n",
    "\n",
    "先通过回代 $Lc = b$ 解出 $c$，再回代 $Ux = c$ 解出 $x$"
   ]
  },
  {
   "cell_type": "markdown",
   "metadata": {},
   "source": [
    "### 向量和矩阵的模\n",
    "\n",
    "* 向量的模 $||x||$\n",
    "    1. $||x|| \\geq 0$， 当且仅当 $||x||$ 为零向量时等于 $0$\n",
    "    2. 对标量 $\\alpha$ 满足 $||\\alpha x|| = |\\alpha| \\cdot ||x||$\n",
    "    3. $||x+y||\\leq ||x|| + ||y||$\n",
    "\n",
    "\n",
    "* 矩阵的模 $||A||$\n",
    "    1. $||A|| \\geq 0$， 当且仅当 $||A||$ 为零矩阵时等于 $0$\n",
    "    2. 对标量 $\\alpha$ 满足 $||\\alpha A|| = |\\alpha| \\cdot ||A||$\n",
    "    3. $||A+B||\\leq ||A|| + ||B||$\n",
    "\n",
    "* 方阵的 **operator norm**\\\n",
    "    遍历所有非零向量 $|x|$，可定义 operator 模\\\n",
    "    $||A|| = max \\frac{||Ax||}{||x||}$"
   ]
  },
  {
   "cell_type": "markdown",
   "metadata": {},
   "source": [
    "### 前向误差与后向误差\n",
    "\n",
    "对线性方程组 $Ax=b$ 的求解问题，近似解为 $x_a$，则残差（residual）为 $r = b - A x_a$\n",
    "\n",
    "* 后向误差\\\n",
    "    $||r||_{\\infty} = ||b - A x_a||_{\\infty}$\n",
    "\n",
    "* 相对后向误差\\\n",
    "    $\\frac{||r||_{\\infty}}{||b||_{\\infty}}$\n",
    "\n",
    "* 前向误差\\\n",
    "    $||x-x_a||_{\\infty}$\n",
    "\n",
    "* 相对前向误差\\\n",
    "    $\\frac{||x-x_a||_{\\infty}}{||x||_{\\infty}}$\n",
    "\n",
    "* 误差放大因子\\\n",
    "    error magnification factor $= \\frac{相对前向误差}{相对后向误差} = \\frac{\\frac{||x-x_a||_{\\infty}}{||x||_{\\infty}}}{\\frac{||r||_{\\infty}}{||b||_{\\infty}}}$\n",
    "\n",
    "* 方阵 $A$ 的 $condition\\ number\\ cond(A)$\\\n",
    "    $cond(A)$ 定义为对所有可能的 $b$, 求解 $Ax=b$ 的误差放大因子的最大值\n",
    "\n",
    "* $n \\times n$ 方阵 $A$ 的模\\\n",
    "    $||A||_{\\infty}$: 对每一行，求该行所有元素的绝对值的和，$n$ 个和中的最大值为方阵 $A$ 的模\n",
    "\n",
    "    $||A||_{1}$: 对每一列，求该列所有元素的绝对值的和，$n$ 个和中的最大值为方阵 $A$ 的模\n",
    "\n",
    "* 定理\n",
    "    $cond(A) = ||A|| \\cdot ||A^{-1}||$\\\n",
    "    （由 operator norm 的定义可证明）\n",
    "    "
   ]
  },
  {
   "cell_type": "markdown",
   "metadata": {},
   "source": [
    "#### Example\n",
    "\n",
    "希尔伯特矩阵 $H, H_{ij} = \\frac{1}{i + j - 1}$, 有着很大的 condition number。对 $n = 6\\ 和\\ 10$，求解 $H x = b$, 其中 $b = H \\cdot [1, ..., 1]^T$"
   ]
  },
  {
   "cell_type": "code",
   "execution_count": 1,
   "metadata": {},
   "outputs": [
    {
     "name": "stdout",
     "output_type": "stream",
     "text": [
      "cond(A, 6) = 2.907028e+07\n",
      "x_a = \n",
      "0.9999999994633981\n",
      "1.0000000011641532\n",
      "0.9999999993015081\n",
      "1.0000000009313226\n",
      "0.9999999995343387\n",
      "1.0000000000582077\n",
      "cond(A, 10) = 3.535372e+13\n",
      "x_a = \n",
      "0.9997739568352699\n",
      "1.0030155181884766\n",
      "0.9954032897949219\n",
      "1.0023498535156250\n",
      "0.9975585937500000\n",
      "1.0000000000000000\n",
      "1.0009765625000000\n",
      "1.0000000000000000\n",
      "1.0000000000000000\n",
      "0.9998779296875000\n"
     ]
    }
   ],
   "source": [
    "import numpy as np\n",
    "\n",
    "def hibert_matrix(n):\n",
    "    mat = [[1.0 / (i + j - 1) for j in range(1, n + 1)] for i in range(1, n + 1)]\n",
    "    return np.matrix(mat)\n",
    "\n",
    "def norm(A, n):\n",
    "    sums = []\n",
    "    for j in range(0, n):\n",
    "        sum = 0\n",
    "        for i in range(0, n):\n",
    "            # print(\"i = {}, j = {}\".format(i, j))\n",
    "            sum += abs(A[(i, j)])\n",
    "        sums.append(sum)\n",
    "    max = sums[0]\n",
    "    for j in range(0, n):\n",
    "        if sums[j] > max:\n",
    "            max = sums[j]\n",
    "    return max\n",
    "\n",
    "def cond(A, n):\n",
    "    inv_A = np.linalg.inv(A)\n",
    "    norm_A = norm(A, n)\n",
    "    norm_inv_A = norm(inv_A, n)\n",
    "    cond_A = norm_A * norm_inv_A\n",
    "    return cond_A\n",
    "\n",
    "A = hibert_matrix(6)\n",
    "print(\"cond(A, 6) = {:e}\".format(cond(A, 6)))\n",
    "ones = np.matrix([[1.0] for i in range(0, 6)])\n",
    "b = A @ ones\n",
    "inv_A = np.linalg.inv(A)\n",
    "x_a = inv_A @ b\n",
    "print(\"x_a = \")\n",
    "for j in x_a:\n",
    "    print(\"{:.16f}\".format(j[(0,0)]))\n",
    "\n",
    "A = hibert_matrix(10)\n",
    "print(\"cond(A, 10) = {:e}\".format(cond(A, 10)))\n",
    "ones = np.matrix([[1.0] for i in range(0, 10)])\n",
    "b = A @ ones\n",
    "inv_A = np.linalg.inv(A)\n",
    "x_a = inv_A @ b\n",
    "print(\"x_a = \")\n",
    "for j in x_a:\n",
    "    print(\"{:.16f}\".format(j[(0,0)]))\n"
   ]
  },
  {
   "cell_type": "markdown",
   "metadata": {},
   "source": [
    "### PA = LU\n",
    "\n",
    "#### 置换矩阵 (permutation matrices)\n",
    "\n",
    "将单位矩阵的行之间进行置换之后的矩阵\n",
    "\n",
    "#### partial pivoting\n",
    "\n",
    "对每一列进行消元时，通过行置换选择绝对值最大的主元\n",
    "\n",
    "解决两个问题：\n",
    "\n",
    " 1. 消除主元为 0 的情况\n",
    " 2. 消除主元太小导致的数值误差\n",
    "\n",
    "#### PA = LU 分解\n",
    "\n",
    "* 对每一列进行消元前通过 partial pivoting 进行主元置换，置换过程记录在置换矩阵中\n",
    "\n",
    "* (i, j) 元素的消除系数记录在原来的位置上，并参与之后的行置换，但不参与之后的加减乘除\n",
    "\n",
    "* 分解后得到 P, L, U 三个矩阵\n",
    "\n",
    "#### 回代过程\n",
    "\n",
    "$P A x = P b = L U x = L c$\n",
    "\n",
    "易得 $c = U x$\n",
    "\n",
    "易得 $x$"
   ]
  }
 ],
 "metadata": {
  "kernelspec": {
   "display_name": "base",
   "language": "python",
   "name": "python3"
  },
  "language_info": {
   "codemirror_mode": {
    "name": "ipython",
    "version": 3
   },
   "file_extension": ".py",
   "mimetype": "text/x-python",
   "name": "python",
   "nbconvert_exporter": "python",
   "pygments_lexer": "ipython3",
   "version": "3.9.13"
  }
 },
 "nbformat": 4,
 "nbformat_minor": 2
}
