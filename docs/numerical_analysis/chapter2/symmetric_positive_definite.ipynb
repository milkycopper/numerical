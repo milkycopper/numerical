{
 "cells": [
  {
   "cell_type": "markdown",
   "metadata": {},
   "source": [
    "# 对称正定矩阵的解法\n",
    "\n",
    "### 对称正定矩阵的定义\n",
    "\n",
    "对 $n \\times n$ 方阵，如果 $A^T = A$，则为对称矩阵，如果 $x^T A x > 0$ 对所有向量 $x \\neq 0$ 成立，则为正定矩阵。\n",
    "\n",
    "#### 对称正定矩阵的判据\n",
    "\n",
    "对于对称方阵 $A$，当且仅当它的所有特征值为正数时，它为正定矩阵\n",
    "\n",
    "#### 定理\n",
    "\n",
    "若 $A$ 为 $n \\times n$ 的对称正定矩阵，$X$ 为 $n \\times m$ 的满秩矩阵且 $n \\geq m$，则 $X^T A X$ 为 $m \\times m$ 的对称正定矩阵"
   ]
  },
  {
   "cell_type": "markdown",
   "metadata": {},
   "source": [
    "#### 定义\n",
    "\n",
    "主子矩阵是对角元素为原矩阵对角元素的子矩阵"
   ]
  },
  {
   "cell_type": "markdown",
   "metadata": {},
   "source": [
    "#### 定理\n",
    "\n",
    "对称正定矩阵的主子矩阵为对称正定矩阵"
   ]
  },
  {
   "cell_type": "markdown",
   "metadata": {},
   "source": [
    "### Cholesky 分解\n",
    "\n",
    "对称正定矩阵 $A$ 一定存在一个上三角矩阵 $R$ 满足 $A = R^T R$\n",
    "\n",
    "#### 算法\n",
    "\n",
    "**for** $k = 1,2,...,n$\\\n",
    "$\\quad$ **if** $A_{kk} < 0$, **stop, end**\\\n",
    "$\\quad$ $R_{kk} = \\sqrt{A_{kk}}$\\\n",
    "$\\quad$ $u^T = \\frac{A_{k,k+1:n}}{R_{kk}}$\\\n",
    "$\\quad$ $R_{k,k+1:n} = u^T$\\\n",
    "$\\quad$ $A_{k+1:n,k+1:n} = A_{k+1:n,k+1:n} - uu^T$\\\n",
    "**end**\n",
    "\n",
    "Cholesky 分解是 LU 分解的特例，时间复杂度为 $O(n^3)$"
   ]
  },
  {
   "cell_type": "markdown",
   "metadata": {},
   "source": [
    "### 共轭梯度法\n",
    "\n",
    "#### 向量的欧几里得内积\n",
    "\n",
    "* 对称性\n",
    "\n",
    "    $(v,w) = v^T w$\n",
    "\n",
    "* 线性性\n",
    "\n",
    "    $(\\alpha v + \\beta w, u) = \\alpha (v,u) + \\beta (w,u)$\n",
    "\n",
    "* 正定性\n",
    "\n",
    "    $(v,v) > 0\\ if\\ v\\neq 0$\n",
    "\n",
    "#### 对称正定矩阵的 A-内积\n",
    "\n",
    "对一个对称正定矩阵 $A$, 向量 $v,w$ 关于该矩阵的 “A-内积” 为 \n",
    "$$(v, w)_A = v^TAw$$\n",
    "\n",
    "A-内积同样具有线性、对称性和正定性"
   ]
  },
  {
   "cell_type": "markdown",
   "metadata": {},
   "source": [
    "#### 共轭梯度算法\n",
    "\n",
    "$x_0$ = initial guess\\\n",
    "$d_0 = r_0 = b - A x_0$\\\n",
    "**for** $k = 0,1,2,...,n-1$\\\n",
    "$\\quad$ **if** $r_k = 0$, **stop, end**\\\n",
    "$\\quad$ $\\alpha_k = \\frac{r_k^T r_k}{d_k^T A d_k}$\\\n",
    "$\\quad$ $x_{k+1} = x_k + \\alpha_k d_k$\\\n",
    "$\\quad$ $r_{k+1} = b - Ax_{k+1} = r_k - \\alpha_k A d_k$\\\n",
    "$\\quad$ $\\beta_k = \\frac{r_{k+1}^T r_{k+1}}{r_k^T r_k}$\\\n",
    "$\\quad$ $d_{k+1} = r_{k+1} + \\beta_k d_k$\\\n",
    "**end** "
   ]
  },
  {
   "cell_type": "markdown",
   "metadata": {},
   "source": [
    "##### 算法原理\n",
    "\n",
    "算法的关键在于 $\\alpha_k, \\beta_k$ 的选择，这样的选择使得以下定理成立\n",
    "\n",
    "设 $A$ 为 $n \\times n$ 对称正定矩阵，$b$ 为非零向量。在上述共轭梯度算法中，假设对某个 $1 \\leq k \\leq n, r_k \\neq 0$，那么\n",
    "\n",
    "* (a) 以下三个子空间是等价的\n",
    "    $$\\langle x_1,x_2,...,x_k \\rangle = \\langle r_0,r_1,...,r_{k-1} \\rangle =\\langle d_0,d_1,...,d_{k-1} \\rangle $$\n",
    "\n",
    "* (b) 残差具有正交性\n",
    "    $$r_k^T r_j = 0 \\ for \\ j < k$$\n",
    "\n",
    "* (c) 方向向量具有 A-共轭性\n",
    "    $$d_k^T A d_j = 0 \\ for \\ j < k$$\n",
    "\n",
    "由残差的正交性可得该算法必在 n 步内有解"
   ]
  },
  {
   "cell_type": "markdown",
   "metadata": {},
   "source": [
    "上述定理证明如下\n",
    "\n",
    "(a) 定理可由 $x_{k+1} = x_k + \\alpha_k d_k$, $d_{k+1} = r_{k+1} + \\beta_k d_k$ 通过递归证明\n",
    "\n",
    "对 (b)(c) 定理，我们假设对 $k$ 成立，接下来证明对 $k+1$ 也成立"
   ]
  },
  {
   "cell_type": "markdown",
   "metadata": {},
   "source": [
    "$$r_{k+1} = r_k - \\alpha_k A d_k = r_k - \\frac{r_k^T r_k}{d_k^T A d_k} A d_k$$"
   ]
  },
  {
   "cell_type": "markdown",
   "metadata": {},
   "source": [
    "$$r_j^T r_{k+1} = r_j^T r_k - \\frac{r_k^T r_k}{d_k^T A d_k} r_j^T A d_k$$"
   ]
  },
  {
   "cell_type": "markdown",
   "metadata": {},
   "source": [
    "对 $j < k$ 由递归条件可知 $r_j^T r_{k+1} = 0$, 对 $j = k$, 由于 \n",
    "\n",
    "$$d_k^T A d_k = d_k^T A (r_k + \\beta_{k-1}d_{k-1}) = d_k^T A r_k = r_k^T A d_k$$\n",
    "\n",
    "于是有 $r_k^T r_{k+1} = 0$, (b) 定理得证"
   ]
  },
  {
   "cell_type": "markdown",
   "metadata": {},
   "source": [
    "$$r_{k+1}^T r_{k+1} = r_{k+1}^T r_k - \\frac{r_k^T r_k}{d_k^T A d_k} r_{k+1}^T A d_k = - \\frac{r_k^T r_k}{d_k^T A d_k} r_{k+1}^T A d_k$$"
   ]
  },
  {
   "cell_type": "markdown",
   "metadata": {},
   "source": [
    "$$\\frac{r_{k+1}^T r_{k+1}}{r_k^T r_k} = -\\frac{r_{k+1}^T A d_k}{d_k^T A d_k}$$"
   ]
  },
  {
   "cell_type": "markdown",
   "metadata": {},
   "source": [
    "$$d_{k+1} = r_{k+1} + \\beta_k d_k = r_{k+1} + \\frac{r_{k+1}^T r_{k+1}}{r_k^T r_k} d_k = r_{k+1} - \\frac{r_{k+1}^T A d_k}{d_k^T A d_k} d_k$$"
   ]
  },
  {
   "cell_type": "markdown",
   "metadata": {},
   "source": [
    "$$d_j^T A d_{k+1} = d_j^T A r_{k+1} - \\frac{r_{k+1}^T A d_k}{d_k^T A d_k} d_j^T A d_k = r_{k+1}^T A d_j - \\frac{r_{k+1}^T A d_k}{d_k^T A d_k} d_j^T A d_k$$"
   ]
  },
  {
   "cell_type": "markdown",
   "metadata": {},
   "source": [
    "对 $j = k$, 显然等于 0, 对 $j < k$, $A d_j = -(r_{j + 1} - r_j)/\\alpha_j$ 正交于 $r_{k+1}$, 因此等式右边第一项为 0，(c) 定理得证"
   ]
  },
  {
   "cell_type": "markdown",
   "metadata": {},
   "source": [
    "#### 共轭梯度法的优势\n",
    "\n",
    "* 对非稀疏矩阵，相比高斯消元没有优势\n",
    "* 对稀疏矩阵有两方面优势\n",
    "    1. 计算次数更少\n",
    "    2. 每次都能保证残差的模减小，减小到一定值就可以停止迭代，从这个意义上来说，共轭梯度法是一种迭代方法"
   ]
  },
  {
   "cell_type": "markdown",
   "metadata": {},
   "source": [
    "#### 共轭梯度法的问题和解决办法\n",
    "\n",
    "* 问题\n",
    "    对病态(ill-conditioned)矩阵, 舍入误差会快速累积，性能不及 PA=LU 算法\n",
    "\n",
    "* 解决办法： **preconditioning**"
   ]
  },
  {
   "cell_type": "markdown",
   "metadata": {},
   "source": [
    "##### Preconditioning\n",
    "\n",
    "* 迭代方法如共轭梯度法的收敛率常常直接或间接地依赖于系数矩阵 $A$ 的 **condition number**, Preconditioning 就是一种减小 condition number 的方法\n",
    "\n",
    "具体来说就是把  $A x = b$ 的求解问题，转换成 $M^{-1}A x = M^{-1} b$，其中 $M$ 是个可逆矩阵，称为 **preconditioner**"
   ]
  },
  {
   "cell_type": "markdown",
   "metadata": {},
   "source": [
    "定性地来说，$M$ 矩阵的选择有两个要求\n",
    "\n",
    "1. M 越接近 A 越好，condition number 越接近 1\n",
    "2. M 求逆很方便\n",
    "\n",
    "若 $A$ 是对称正定矩阵，则 $M$ 也应该是对称正定矩阵"
   ]
  },
  {
   "cell_type": "markdown",
   "metadata": {},
   "source": [
    "* Jacobi preconditioner\n",
    "\n",
    "    M 取为 A 的对角线元素组成的矩阵\n",
    "\n",
    "* symmetric successive over-relaxation (SSOR) preconditioner\n",
    "\n",
    "    $A = L + D + U$\\\n",
    "    $M = (D + \\omega L)D^{-1}(D + \\omega U)$\n",
    "\n",
    "    $\\omega = 1$ 即为 Gauss–Seidel preconditioner"
   ]
  },
  {
   "cell_type": "markdown",
   "metadata": {},
   "source": [
    "#### Preconditioned Conjugate Gradient Method\n",
    "\n",
    "$x_0$ = initial guess\\\n",
    "$r_0 = b - A x_0$\\\n",
    "$d_0 = z_0 = M^{-1} r_0$\\\n",
    "**for** $k = 0,1,2,...,n-1$\\\n",
    "$\\quad$ **if** $r_k = 0$, **stop, end**\\\n",
    "$\\quad$ $\\alpha_k = \\frac{r_k^T z_k}{d_k^T A d_k}$\\\n",
    "$\\quad$ $x_{k+1} = x_k + \\alpha_k d_k$\\\n",
    "$\\quad$ $r_{k+1} =  r_k - \\alpha_k A d_k$\\\n",
    "$\\quad$ $z_{k+1} = M^{-1}r_{k+1}$\\\n",
    "$\\quad$ $\\beta_k = \\frac{r_{k+1}^T z_{k+1}}{r_k^T z_k}$\\\n",
    "$\\quad$ $d_{k+1} = z_{k+1} + \\beta_k d_k$\\\n",
    "**end** "
   ]
  },
  {
   "cell_type": "markdown",
   "metadata": {},
   "source": [
    "注意事项：\n",
    "\n",
    "* 无需显式地计算 $M^{-1}$ 和向量相乘，而应该使用回代，因为 $M$ 是一个相对简单的矩阵\n"
   ]
  }
 ],
 "metadata": {
  "language_info": {
   "name": "python"
  }
 },
 "nbformat": 4,
 "nbformat_minor": 2
}
