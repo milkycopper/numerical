{
 "cells": [
  {
   "cell_type": "markdown",
   "metadata": {},
   "source": [
    "# 常微分方程边值问题(BVP) "
   ]
  },
  {
   "cell_type": "markdown",
   "metadata": {},
   "source": [
    "一个二阶偏微分方程的边值问题\n",
    "\n",
    "$$\\begin{cases}\n",
    "y'' = f(t, y, y')\\\\\n",
    "y(a) = y_a\\\\\n",
    "y(b) = y_b\n",
    "\\end{cases}$$"
   ]
  },
  {
   "cell_type": "markdown",
   "metadata": {},
   "source": [
    "边值问题解的存在性比初值问题复杂，一个看似合理的问题可能无解也有可能有多个解甚至无穷个解"
   ]
  },
  {
   "cell_type": "markdown",
   "metadata": {},
   "source": [
    "### 打枪法\n",
    "\n",
    "预设边界一阶导，不断求解 IVP，来逼近正确答案"
   ]
  },
  {
   "cell_type": "markdown",
   "metadata": {},
   "source": [
    "### 有限差分法\n",
    "\n",
    "核心思想式用差分替代微分，从而把微分方程转化成无微分的方程组。如果微分方程是线性的，那么会得到线性方程组，否则会得到非线性方程组"
   ]
  },
  {
   "cell_type": "markdown",
   "metadata": {},
   "source": [
    "#### 举例 1\n",
    "\n",
    "使用有限差分法求解\n",
    "\n",
    "$$\\begin{cases}\n",
    "y'' = 4y\\\\\n",
    "y(0) = 1\\\\\n",
    "y(1) = 3\n",
    "\\end{cases}$$"
   ]
  },
  {
   "cell_type": "markdown",
   "metadata": {},
   "source": [
    "根据前几章的内容，微分可用差分近似如下\n",
    "\n",
    "$$y'(t) = \\frac{y(t+h) - y(t-h)}{2h} - \\frac{h^2}{6}y'''(c)$$\n",
    "\n",
    "$$y''(t) = \\frac{y(t+h) - 2y(t) + y(t-h)}{h^2} + \\frac{h^2}{12}y''''(c)$$"
   ]
  },
  {
   "cell_type": "markdown",
   "metadata": {},
   "source": [
    "因此微分方程写成差分形式即\n",
    "\n",
    "$$\\frac{w_{i+1} - 2w_i + w_{i-1}}{h^2} - 4w_i$$\n",
    "\n",
    "即\n",
    "\n",
    "$$w_{i-1} + (-4h^2-2)w_i + w_{i+1}=0$$"
   ]
  },
  {
   "cell_type": "markdown",
   "metadata": {},
   "source": [
    "解这个方程组即可获得各个数值点"
   ]
  },
  {
   "cell_type": "markdown",
   "metadata": {},
   "source": [
    "有限差分法的误差来源于差分近似的误差和解方程组的误差两部分，当 $h$ 大于机器 $\\epsilon$ 的平方根时，前者占主导，误差为 $O(h^2)$，误差收敛性为 2 阶的原因是我们使用了二阶的差分近似"
   ]
  },
  {
   "cell_type": "markdown",
   "metadata": {},
   "source": [
    "#### 举例 2"
   ]
  },
  {
   "cell_type": "markdown",
   "metadata": {},
   "source": [
    "使用有限差分法求解\n",
    "\n",
    "$$\\begin{cases}\n",
    "y'' = y - y^2\\\\\n",
    "y(0) = 1\\\\\n",
    "y(1) = 4\n",
    "\\end{cases}$$"
   ]
  },
  {
   "cell_type": "markdown",
   "metadata": {},
   "source": [
    "微分方程写成差分形式即\n",
    "\n",
    "$$\\frac{w_{i+1} - 2w_i + w_{i-1}}{h^2} - w_i + w_i^2 = 0$$\n",
    "\n",
    "即\n",
    "\n",
    "$$w_{i-1} - (2+h^2)w_i + h^2w_i^2 + w_{i+1}=0 \\quad (2\\leq i \\leq n-1)$$\n",
    "\n",
    "$$y_a - (2+h^2)w_1 + h^2w_i^1 + w_2=0$$\n",
    "\n",
    "$$w_{n-1} - (2+h^2)w_n + h^2w_i^n + y_b=0$$"
   ]
  },
  {
   "cell_type": "markdown",
   "metadata": {},
   "source": [
    "可以使用多元牛顿法来求解"
   ]
  },
  {
   "cell_type": "markdown",
   "metadata": {},
   "source": [
    "### 有限元法\n",
    "\n",
    "和有限差分法类似，有限元法也是把边值问题转化成一组可解的代数方程。但不同于有限差分法的用差分来替代微分的方式，有限元法使用一组函数的组合来替换原函数，并求解该组合的系数。"
   ]
  },
  {
   "cell_type": "markdown",
   "metadata": {},
   "source": [
    "选择一组基函数 $\\phi_1(t),...,\\phi_n(t)$, 并认为解为基函数的线性组合，\n",
    "\n",
    "$$y(t) = \\sum^n c_i\\phi_i(t)$$"
   ]
  },
  {
   "cell_type": "markdown",
   "metadata": {},
   "source": [
    "#### 方式一\n",
    "\n",
    "选择一组 $n$ 个点 $a = t_1 < t_2 < \\cdots < t_n = b$， 把上述组合函数代入微分方程，在 $n$ 个点上可以得到关于 $c_i$ 的 $n$ 个方程，如果微分方程式线性的，则方程组是线性的。解出 $c_i$ 即得微分方程的解"
   ]
  },
  {
   "cell_type": "markdown",
   "metadata": {},
   "source": [
    "该方式可以看作对解的插值，因此使用简单多项式为基函数并不好，当 n 较大时，condition number 会很大。可以使用切比雪夫多项式的根作为插值点。使用三角函数作为基函数就得到了傅里叶分析中的谱方法。该方式是一种“全局”方法，其中基函数在 $t$ 的很大一个范围内是非零的，但有着较好的正交性。"
   ]
  },
  {
   "cell_type": "markdown",
   "metadata": {},
   "source": [
    "#### 方式二\n",
    "\n",
    "选择样条插值函数作为基函数就得到了正宗的有限元法。每个基函数只在 $t$ 的一小段范围内非零。有限元法在常微分方程边值问题（BVP）和偏微分方程（PDE）中有广泛的应用，特别是当非正规的边界条件使得通过标准基函数的参数化变得困难的时候。"
   ]
  },
  {
   "cell_type": "markdown",
   "metadata": {},
   "source": [
    "有限元法求解近似的解 $y(t)$ 使其满足残差 $r = y'' - f$ 尽可能小。"
   ]
  },
  {
   "cell_type": "markdown",
   "metadata": {},
   "source": [
    "定义 $[a, b]$ 上的 $L^2$ 函数空间为 \n",
    "\n",
    "$$L^2[a, b] = \\{y(t)\\ on\\ [a, b]\\ |\\ \\int^b_a y(t)^2dt\\ 存在且有限 \\}$$\n",
    "\n",
    "$L^2$ 上的内积定义为\n",
    "\n",
    "$$\\langle y_1, y_2\\rangle = \\int^b_a y_1(t)y_2(t)dt$$"
   ]
  },
  {
   "cell_type": "markdown",
   "metadata": {},
   "source": [
    "由于 $L^2$ 是无穷维的空间，我们不可能使得 $r = y'' - f$ 正交于其上所有的函数，但是我们可以在有限的计算资源下选择一组基函数，张成 $L^2$ 的尽可能大的子空间，并正交于残差函数。"
   ]
  },
  {
   "cell_type": "markdown",
   "metadata": {},
   "source": [
    "选择一组 $n+2$ 个基函数 $\\phi_0(t),...,\\phi_{n+1}(t)$，Galerkin 方法的核心思想主要有两条\n",
    "\n",
    "* 一是通过使残差 $r$ 正交于基函数来最小化残差，即使得 $\\int^b_a (y''(t)-f)\\phi_i(t)dt = 0$，即\n",
    "\n",
    "    $$\\int^b_a y''(t)\\phi_i(t)dt = \\int^b_a f(t, y, y')\\phi_i(t)dt\\quad for\\quad 0\\leq i\\leq n+1 $$\n",
    "\n",
    "    这个公式称为边值问题的弱形式\n",
    "\n",
    "* 第二是使用分步积分来消除二次导\n",
    "\n",
    "    上面的公式可以写成\n",
    "\n",
    "    $$\\int^b_a f(t, y, y')\\phi_i(t)dt = \\phi_i(t)y'(t)|_a^b - \\int^b_a y'(t)\\phi'_i(t)dt \\\\ = \\phi_i(b)y'(b) - \\phi_i(a)y'(a) - \\int^b_a y'(t)\\phi'_i(t)dt$$"
   ]
  },
  {
   "cell_type": "markdown",
   "metadata": {},
   "source": [
    "这两条思想使得 Galerkin 方法可以选择非常简单的函数作为有限基元函数 $\\phi_i(t)$"
   ]
  },
  {
   "cell_type": "markdown",
   "metadata": {},
   "source": [
    "以片段线性 B 样条函数为例，在 $t$ 轴上取 $n+2$ 个点 $t_0 < t_1 < \\cdots < t_n < t_{n+1}$, 定义基函数\n",
    "\n",
    "$$\\phi_i(t) = \\begin{cases}\n",
    "\\frac{t-t_{i-1}}{t_i - t_{i-1}},\\ t_{i-1}<t\\leq t_i\\\\\n",
    "\\frac{t_{i+1} - t}{t_{i+1} - t_i},\\ t_i<t<t_{i+1}\\\\\n",
    "0,\\ otherwise\n",
    "\\end{cases}$$"
   ]
  },
  {
   "cell_type": "markdown",
   "metadata": {},
   "source": [
    "则 $y(t) = \\sum^n c_i\\phi_i(t)$ 中的系数 $c_i = y(t_i)$"
   ]
  },
  {
   "cell_type": "markdown",
   "metadata": {},
   "source": [
    "对边界点，$y(a) = c_0, y(b) = c_{n+1}$, 对中间点 $i = 1,2,...,n$，根据上述的分部积分公式\n",
    "\n",
    "$$\\int^b_a f(t, y, y')\\phi_i(t)dt + \\int^b_a y'(t)\\phi'_i(t)dt = 0$$"
   ]
  },
  {
   "cell_type": "markdown",
   "metadata": {},
   "source": [
    "代入 $y(t) = \\sum^n c_i\\phi_i(t)$，对包含 $\\phi_t$ 的函数进行积分后，即可得到关于 $c_i$ 的方程组"
   ]
  }
 ],
 "metadata": {
  "language_info": {
   "name": "python"
  }
 },
 "nbformat": 4,
 "nbformat_minor": 2
}
