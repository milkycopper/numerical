{
 "cells": [
  {
   "cell_type": "markdown",
   "metadata": {},
   "source": [
    "# 椭圆形 PDE"
   ]
  },
  {
   "cell_type": "markdown",
   "metadata": {},
   "source": [
    "* 拉普拉斯算子\n",
    "\n",
    "$$\\Delta u = u_{xx} + u_{yy}$$"
   ]
  },
  {
   "cell_type": "markdown",
   "metadata": {},
   "source": [
    "* 泊松方程\n",
    "\n",
    "    $$\\Delta u(x,y) = f(x,y)$$\n",
    "\n",
    "    其中 $f(x, y)$ 为连续函数，$f(x, y)=0$ 时称为拉普拉斯方程。拉普拉斯方程的解称为谐波解"
   ]
  },
  {
   "cell_type": "markdown",
   "metadata": {},
   "source": [
    "### 有限差分法\n",
    "\n",
    "考虑方形区域 $[x_l, x_r]\\times [y_b, y_t]$ 上的泊松方程 $\\Delta u = f$, 迪利克雷型边条件为\n",
    "\n",
    "$$\\begin{cases}\n",
    "u(x, y_b) = g_1(x)\\\\\n",
    "u(x, y_t) = g_2(x)\\\\\n",
    "u(x_l, y) = g_3(y)\\\\\n",
    "u(x_r, y) = g_4(y)\n",
    "\\end{cases}$$\n",
    "\n",
    "$M = m - 1, N = n - 1$, 令 $h = (x_r - x_l)/M, k = (y_t - y_b)/N$, 由中心差分方程可把微分方程转化为\n",
    "\n",
    "$$\n",
    "\\frac{u(x-h,y)-2u(x,y)+u(x+h,y)}{h^2} + O(h^2) \\\\\n",
    "+ \\frac{u(x,y-k)-2u(x,y)+u(x,y+k)}{k^2} + O(k^2) = f(x, y) \n",
    "$$"
   ]
  },
  {
   "cell_type": "markdown",
   "metadata": {},
   "source": [
    "即\n",
    "\n",
    "$$\n",
    "\\frac{w_{i-1,j}-2w_{ij}+w_{i+1,j}}{h^2} + O(h^2) \\\\\n",
    "+ \\frac{w_{i,j-1}-2w_{ij}+w_{i,j+1}}{k^2} + O(k^2) = f(x_i, y_i) \n",
    "$$\n",
    "\n",
    "其中对 $1\\leq i\\leq m, 1\\leq j\\leq n$ 有 $x_i = x_l + (i-1)h$ 及 $y_j = y_b + (j-1)k$"
   ]
  },
  {
   "cell_type": "markdown",
   "metadata": {},
   "source": [
    "将二维系数转成一维\n",
    "\n",
    "$$v_{i+(j-1)m} = w_{ij}$$ \n",
    "\n",
    "我们就能构建一个矩阵方程 $Av=b$, 其中 $A$ 是一个 $mn$ 维的方阵"
   ]
  },
  {
   "cell_type": "markdown",
   "metadata": {},
   "source": [
    "$A$ 中的非零元素为\n",
    "\n",
    "$$A_{i+(j-1)m,i+(j-1)m} = -\\frac{2}{h^2} - \\frac{2}{k^2}$$\n",
    "$$A_{i+(j-1)m,i+1+(j-1)m} = \\frac{1}{h^2}$$\n",
    "$$A_{i+(j-1)m,i-1+(j-1)m} = -\\frac{1}{h^2}$$\n",
    "$$A_{i+(j-1)m,i+jm} = \\frac{1}{k^2}$$\n",
    "$$A_{i+(j-1)m,i+(j-2)m} = \\frac{1}{k^2}$$"
   ]
  },
  {
   "cell_type": "markdown",
   "metadata": {},
   "source": [
    "解出该矩阵方程即可得到有限差分法的解"
   ]
  },
  {
   "cell_type": "markdown",
   "metadata": {},
   "source": [
    "### 有限元法\n",
    "\n",
    "* 使用正交函数空间来使得计算稳定\n",
    "* 结构矩阵有相当的对称性，即使底层的几何条件比较复杂"
   ]
  },
  {
   "cell_type": "markdown",
   "metadata": {},
   "source": [
    "考虑定义在由分段光滑曲线 $S$ 包围的区域 $R$ 上的微分方程\n",
    "\n",
    "$$\n",
    "\\Delta u + r(x,y)u = f(x, y)\\text{ in } R\\\\\n",
    "u = g(x, y) \\text{ on } S\n",
    "$$"
   ]
  },
  {
   "cell_type": "markdown",
   "metadata": {},
   "source": [
    "$R$ 上的 $L^2$ 空间定义为\n",
    "\n",
    "$$L^2(R) = \\{\\phi(x,y) \\text{ on }R | \\int\\int_R \\phi(x,y)^2 dxdy \\text{ exists and is finite} \\}$$"
   ]
  },
  {
   "cell_type": "markdown",
   "metadata": {},
   "source": [
    "$L_0^2(R)$ 子空间的函数在边界 $S$ 上为 $0$"
   ]
  },
  {
   "cell_type": "markdown",
   "metadata": {},
   "source": [
    "最小二乘误差最小即是使 $\\Delta u + r(x,y)u - f(x, y)$ 正交于 $L^2(R)$ 的一个很大的子空间。设 $\\phi_1(x,y),...,\\phi_p(x,y)$ 为 $L^2(R)$ 的元素，则正交性假设要求\n",
    "\n",
    "$$\\int\\int_R (\\Delta u + r(x,y)u - f(x, y))\\phi_p(x,y) dxdy = 0$$"
   ]
  },
  {
   "cell_type": "markdown",
   "metadata": {},
   "source": [
    "该方程称为偏微分方程的弱形式"
   ]
  },
  {
   "cell_type": "markdown",
   "metadata": {},
   "source": [
    "#### 格林第一等式\n",
    "\n",
    "$$\\int\\int_R v\\Delta u = \\int_S v\\frac{\\partial u}{\\partial n}dS - \\int\\int_R \\nabla u \\nabla v$$"
   ]
  },
  {
   "cell_type": "markdown",
   "metadata": {},
   "source": [
    "其中 $\\frac{\\partial u}{\\partial n} = \\nabla u \\cdot (n_x, n_y)$"
   ]
  },
  {
   "cell_type": "markdown",
   "metadata": {},
   "source": [
    "格林等式代入弱形式可得\n",
    "\n",
    "$$\n",
    "\\int_S \\phi_p\\frac{\\partial u}{\\partial n}dS\n",
    "- \\int\\int_R \\nabla u \\nabla \\phi_p dxdy\n",
    "+ \\int\\int_R ru\\phi_p dxdy\n",
    "= \\int\\int_R f \\phi_p dxdy\n",
    "$$"
   ]
  },
  {
   "cell_type": "markdown",
   "metadata": {},
   "source": [
    "有限元法的关键是使用近似\n",
    "\n",
    "$$w(x, y) = \\sum_{q=1}^P v_q\\phi_q(x, y)$$\n",
    "\n",
    "来替代 $u$，并求解系数 $v_q$"
   ]
  },
  {
   "cell_type": "markdown",
   "metadata": {},
   "source": [
    "先假设 $\\phi_p \\in L_0^2(R)$, 即 $\\phi_p(S) = 0$, 可得\n",
    "\n",
    "$$\\sum_{q=1}^P v_q\\left [\\int\\int_R \\nabla \\phi_q \\nabla \\phi_p dxdy - \\int\\int_R r\\phi_q \\phi_p\\right ] = -\\int\\int_R f\\phi_p dxdy$$"
   ]
  },
  {
   "cell_type": "markdown",
   "metadata": {},
   "source": [
    "由此建立了关于 $v_1, ..., v_P$ 的方程组 $Av=b$, 其中\n",
    "\n",
    "$$A_{pq} = \\int\\int_R \\nabla \\phi_q \\nabla \\phi_p dxdy - \\int\\int_R r\\phi_q \\phi_p$$\n",
    "\n",
    "$$b_p = -\\int\\int_R f\\phi_p dxdy$$"
   ]
  },
  {
   "cell_type": "markdown",
   "metadata": {},
   "source": [
    "接下来需要选择合适的 $\\phi$ 函数族，例如第七章中的线性 B 样条函数。线性样条函数的优势是方便计算，积分可以简单地由中点的函数值得到"
   ]
  }
 ],
 "metadata": {
  "language_info": {
   "name": "python"
  }
 },
 "nbformat": 4,
 "nbformat_minor": 2
}
