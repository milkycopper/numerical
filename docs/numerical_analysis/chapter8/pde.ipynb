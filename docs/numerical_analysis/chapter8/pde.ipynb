{
 "cells": [
  {
   "cell_type": "markdown",
   "metadata": {},
   "source": [
    "# 偏微分方程（PDE）\n",
    "\n",
    "此处仅限于讨论如下形式的 PDE\n",
    "\n",
    "$$Au_{xx} + Bu_{xy} + Cu_{yy} + F(u_x, u_y, u, x, y) = 0$$"
   ]
  },
  {
   "cell_type": "markdown",
   "metadata": {},
   "source": [
    "随着系数 $A, B, C$ 的不同，PDE 的解的性质有很大的不同，因此两个独立变量的二阶偏微分方程可以作如下分类\n",
    "\n",
    "1. 抛物线型（Parabolic）\n",
    "    $B^2 - 4AC = 0$\n",
    "2. 双曲线型（Hyperbolic）\n",
    "    $B^2 - 4AC > 0$\n",
    "1. 椭圆型（Elliptic）\n",
    "    $B^2 - 4AC < 0$"
   ]
  },
  {
   "cell_type": "markdown",
   "metadata": {},
   "source": [
    "在实践上，抛物线和双曲线型方程是定义在一个开区域内的，在区域的一端对一个自变量（通常是时间）的边界条件进行了设置，解往另一端展开。而椭圆形方程通常在整个闭区域的边界上设置了边界条件。"
   ]
  }
 ],
 "metadata": {
  "language_info": {
   "name": "python"
  }
 },
 "nbformat": 4,
 "nbformat_minor": 2
}
