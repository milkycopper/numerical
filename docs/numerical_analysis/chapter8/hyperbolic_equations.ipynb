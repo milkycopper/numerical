{
 "cells": [
  {
   "cell_type": "markdown",
   "metadata": {},
   "source": [
    "# 双曲线型 PDE"
   ]
  },
  {
   "cell_type": "markdown",
   "metadata": {},
   "source": [
    "双曲线型 PDE 对显式方法的限制更小\n",
    "\n",
    "本节讨论波动方程\n",
    "\n",
    "$$u_{tt} = c^2 u_{xx}$$\n",
    "\n",
    "典型的初条件和边条件为\n",
    "\n",
    "$$\\begin{cases}\n",
    "u(x, 0)= f(x)\\text{ for all } a\\leq x\\leq b\\\\\n",
    "u_t(x, 0) = g(x) \\text{ for all } a\\leq x\\leq b\\\\\n",
    "u(a, t) = l(t) \\text{ for all } t\\geq 0\\\\\n",
    "u(b, t) = r(t) \\text{ for all } t\\geq 0\n",
    "\\end{cases}$$"
   ]
  },
  {
   "cell_type": "markdown",
   "metadata": {},
   "source": [
    "应用有限差分可得\n",
    "\n",
    "$$\n",
    "\\frac{w_{i,j+1} - 2w_{ij} + w_{i,j-1}}{k^2} - c^2 \\frac{w_{i-1,j} - 2w_{ij} + w_{i+1,j}}{h^2} = 0\n",
    "$$"
   ]
  },
  {
   "cell_type": "markdown",
   "metadata": {},
   "source": [
    "令 $\\sigma = ck/h$ 即\n",
    "\n",
    "$$w_{i,j+1} = (2-2\\sigma^2)w_{ij} + \\sigma^2 w_{i-1,j} + \\sigma^2 w_{i+1,j} - w_{i,j-1}$$"
   ]
  },
  {
   "cell_type": "markdown",
   "metadata": {},
   "source": [
    "误差项为 $O(k^2) + O(h^2)$. 启动条件可由一阶导初值通过三点中心差分公式近似得出"
   ]
  },
  {
   "cell_type": "markdown",
   "metadata": {},
   "source": [
    "对波速 $c>0$ 的情况, 有限差分法稳定的必要条件是 $\\sigma = ck/h \\leq 1$, 但不一定充分"
   ]
  }
 ],
 "metadata": {
  "language_info": {
   "name": "python"
  }
 },
 "nbformat": 4,
 "nbformat_minor": 2
}
