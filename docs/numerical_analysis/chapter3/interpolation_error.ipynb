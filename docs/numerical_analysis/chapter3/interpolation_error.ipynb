{
 "cells": [
  {
   "cell_type": "markdown",
   "metadata": {},
   "source": [
    "# 插值误差"
   ]
  },
  {
   "cell_type": "markdown",
   "metadata": {},
   "source": [
    "### 多项式插值的误差\n",
    "\n",
    "对一个 $n$ 次可微的函数 $f(x)$, 取其上 $n$ 个点 $(x_1, f(x_1))...(x_n, f(x_n))$, 进行多项式插值，获得插值多项式 $P_{n-1}(x)$, 那么 $f(x)$ 与 $P_{n-1}(x)$ 之间的误差关系为\n",
    "\n",
    "$$f(x) = P_{n-1}(x) + \\frac{f^{(n)}(c)}{n!}(x - x_1)\\cdots (x - x_n)$$\n",
    "\n",
    "其中 $c$ 的取值与 $x$ 有关，且 $c$ 落在 $\\{x_1, x_2, ..., x_n, x\\}$ 这 $n + 1$ 个点可围成的最大的区间内 "
   ]
  },
  {
   "cell_type": "markdown",
   "metadata": {},
   "source": [
    "#### 证明\n",
    "\n",
    "过 $\\{x_1, x_2, ..., x_n, x\\}$ 这 $n + 1$ 个点的插值多项式为 $P_{n}(t)$, 有\n",
    "\n",
    "$$P_n(t) = P_{n-1}(t) + f[x_1\\ ...\\ x_n\\ x](t-x_1)\\cdots(t-x_n)$$"
   ]
  },
  {
   "cell_type": "markdown",
   "metadata": {},
   "source": [
    "在点 $x$ 上有\n",
    "\n",
    "$$f(x) = P_n(x) = P_{n-1}(x) + f[x_1\\ ...\\ x_n\\ x](x-x_1)\\cdots(x-x_n)$$"
   ]
  },
  {
   "cell_type": "markdown",
   "metadata": {},
   "source": [
    "定义 $g(t) = f(t) - P_{n-1}(t) - f[x_1\\ ...\\ x_n\\ x](t-x_1)\\cdots(t-x_n)$"
   ]
  },
  {
   "cell_type": "markdown",
   "metadata": {},
   "source": [
    "$g(t)$ 有 $\\{x_1, x_2, ..., x_n, x\\}$ 这 $n + 1$ 个零点，根据罗尔定理，这 $n + 1$ 个点可围成的最大的区间内必有一个点 $c$ 满足 \n",
    "\n",
    "$$g^{(n)}(c) = 0 = f^{(n)}(c) - n!f[x_1\\ ...\\ x_n\\ x]$$"
   ]
  },
  {
   "cell_type": "markdown",
   "metadata": {},
   "source": [
    "所以\n",
    "\n",
    "$$f(x) = P_{n-1}(x) + f[x_1\\ ...\\ x_n\\ x](x-x_1)\\cdots(x-x_n) = \\\\ P_{n-1}(x) + \\frac{f^{(n)}(c)}{n!}(x - x_1)\\cdots (x - x_n)$$"
   ]
  },
  {
   "cell_type": "markdown",
   "metadata": {},
   "source": [
    "### Runge 效应\n",
    "\n",
    "如果插值点的 $x$ 坐标是等距排列的，那么多项式插值在靠近插值区间边缘时，插值误差会较大。这个效应可以从误差公式 \n",
    "\n",
    "$$\\frac{f^{(n)}(c)}{n!}(x - x_1)\\cdots (x - x_n)$$\n",
    "\n",
    "明显看出"
   ]
  },
  {
   "cell_type": "markdown",
   "metadata": {},
   "source": [
    "### 切比雪夫多项式\n",
    "\n",
    "考虑确定一组 $n$ 个实数 $-1 \\leq x_1,...,x_n \\leq 1$ 使得 $\\underset{-1 \\leq x \\leq 1}{max} |(x - x_1)\\cdots (x - x_n)|$ 最小，这一组实数应该取为\n",
    "\n",
    "$$x_i = cos\\frac{(2i - 1)\\pi}{2n},\\ i = 1,...,n$$\n",
    "\n",
    "此时 $\\underset{-1 \\leq x \\leq 1}{max} |(x - x_1)\\cdots (x - x_n)|$ 取得最小值为 $1/2^{n - 1}$\n",
    "\n",
    "$$T_n(x) = 2^{n - 1} \\cdot (x - x_1)\\cdots (x - x_n),\\ x_i = cos\\frac{(2i - 1)\\pi}{2n}$$\n",
    "\n",
    "称为**切比雪夫多项式**。\n",
    "\n",
    "使用切比雪夫多项式的根为插值点横坐标的插值多项式为**切比雪夫插值多项式**，相比于均匀采样后的插值，切比雪夫采样的多项式插值在插值范围内的最大误差明显减小"
   ]
  },
  {
   "cell_type": "markdown",
   "metadata": {},
   "source": [
    "#### 切比雪夫多项式的性质\n",
    "\n",
    "1. $T_n(x) = cos(n\\ arccos\\ x), -1 \\leq x \\leq 1, -1 \\leq T_n(x) \\leq 1$\n",
    "2. $T_{n+1}(x) = 2xT_n(x) - T_{n - 1}(x)$\n",
    "3. 由 2 可得切比雪夫多项式是多项式函数\n",
    "4. 切比雪夫多项式 $T_n$ 的最高次数是 $n$,最高次项的系数是 $2^{n - 1}$\n",
    "5. $T_n(1) = 1,\\ T_n(-1) = (-1)^n$\n",
    "6. $T_n(x) 有 n 个根，x_i = cos\\frac{(2i - 1)\\pi}{2n},\\ i = 1,...,n$\n",
    "7. $T_n(x)$ 在 $-1 \\leq x \\leq 1$ 间有 $n + 1$ 次取到 $1$ 或 $-1$"
   ]
  },
  {
   "cell_type": "markdown",
   "metadata": {},
   "source": [
    "#### 切比雪夫插值误差最小的证明\n",
    "\n",
    "现在要证明 $\\underset{-1 \\leq x \\leq 1}{max} |(x - x_1)\\cdots (x - x_n)|$ 取最小时即为 $T_n(x)/2^{n - 1} = (x - x_1)\\cdots (x - x_n)$\n",
    "\n",
    "用反证法，假设存在另一组 $P_n(x) = (x - x'_1)\\cdots (x - x'_n)$ 使得 $|P_n(x)| < 1/2^{n-1}$, 由上述性质 7 可得， $P_n(x) - T_n(x)/2^{n - 1}$ 有 $n + 1$ 个零点，但 $P_n(x) - T_n(x)/2^{n - 1}$ 的最高次数最大只能是 $n - 1$, 因此最多只有 $n$ 个零点，所以矛盾"
   ]
  },
  {
   "cell_type": "markdown",
   "metadata": {},
   "source": [
    "#### 任意区间的切比雪夫插值点\n",
    "\n",
    "在区间 $[a, b]$ 内，切比雪夫插值点为\n",
    "\n",
    "$$x_i = \\frac{a + b}{2} + \\frac{b - a}{2} cos\\frac{(2i - 1)\\pi}{2n}, i = 1, ..., n$$\n",
    "\n",
    "这组插值点满足：在区间 $[a, b]$ 内\n",
    "\n",
    "$$|(x - x_1)\\cdots (x - x_n)| \\leq \\frac{(\\frac{b - a}{2})^n}{2^{n - 1}}$$"
   ]
  }
 ],
 "metadata": {
  "language_info": {
   "name": "python"
  }
 },
 "nbformat": 4,
 "nbformat_minor": 2
}
