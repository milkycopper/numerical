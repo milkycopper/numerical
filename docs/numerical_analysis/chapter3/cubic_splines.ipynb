{
 "cells": [
  {
   "cell_type": "markdown",
   "metadata": {},
   "source": [
    "# 三次样条插值"
   ]
  },
  {
   "cell_type": "markdown",
   "metadata": {},
   "source": [
    "* 多项式插值\n",
    "\n",
    "    使用单个多项式来插值所有数据点\n",
    "\n",
    "* 样条插值\n",
    "\n",
    "    使用多个低阶多项式来插值\n",
    "\n",
    "    最简单的情况，线性插值，得到折线图"
   ]
  },
  {
   "cell_type": "markdown",
   "metadata": {},
   "source": [
    "### 三次样条插值原理\n",
    "\n",
    "让相邻的插值函数在连接它们的插值点处有相同的 0 阶，1 阶和 2 阶导数"
   ]
  },
  {
   "cell_type": "markdown",
   "metadata": {},
   "source": [
    "对 $(x_i, y_i), i = 1,...,n$ 进行插值，在每一个分段上的插值函数为\n",
    "\n",
    "$$S_i(x) = y_i + b_i(x - x_i) + c_i(x - x_i)^2 + d_i(x - x_i)^3\\ on\\ [x_i, x_{i+1}], i = 1,...,(n - 1)$$"
   ]
  },
  {
   "cell_type": "markdown",
   "metadata": {},
   "source": [
    "显然 $S_i(x_i) = y_i$，另外系数的选择还需满足以下三个要求\n",
    "\n",
    "1. $S_{i}(x_{i+1}) = y_{i+1}\\ for \\ i=1,...,n-1$\n",
    "2. $S'_{i-1}(x_{i}) = S'_i(x_i)\\ for \\ i=2,...,n-1$\n",
    "1. $S''_{i-1}(x_{i}) = S''_i(x_i)\\ for \\ i=2,...,n-1$"
   ]
  },
  {
   "cell_type": "markdown",
   "metadata": {},
   "source": [
    "于是得到以下三组方程\n",
    "\n",
    "$$b_i(x_{i+1} - x_i) + c_i(x_{i+1} - x_i)^2 + d_i(x_{i+1} - x_i)^3 = y_{i+1} - y_i\\ for \\ i=1,...,n-1$$\n",
    "\n",
    "$$2c_{i-1}(x_i - x_{i-1}) + 3d_{i-1} (x_i - x_{i-1})^2 = b_i - b_{i-1}\\ for \\ i=2,...,n-1$$\n",
    "\n",
    "$$3d_{i-1}(x_i - x_{i-1}) = c_i - c_{i-1}\\ for \\ i=2,...,n-1$$"
   ]
  },
  {
   "cell_type": "markdown",
   "metadata": {},
   "source": [
    "再引入一个 $c_n = S''_{n - 1}(x_n)/2 = c_{n - 1} + 3d_{n - 1}(x_n - x_{n - 1})$, 令 $\\delta_i = x_{i+1} - x_i,\\ \\Delta_i = y_{i+1} - y_i$，有 $d_{i - 1} = \\frac{c_{i} - c_{i - 1}}{3\\delta_{i - 1}}\\ for \\ i=2,...,n$"
   ]
  },
  {
   "cell_type": "markdown",
   "metadata": {},
   "source": [
    "即\n",
    "\n",
    "$$\\delta_i c_{i+1} + 2(\\delta_i + \\delta_{i - 1})c_i + \\delta_{i - 1} c_{i-1} = 3(\\frac{\\Delta_i}{\\delta_i} - \\frac{\\Delta_{i-1}}{\\delta_{i - 1}})\\ for \\ i=2,...,n-1$$\n",
    "\n",
    "$$b_{i-1} = \\frac{\\Delta_{i-1}}{\\delta_{i - 1}} - \\frac{\\delta_{i-1}}{3}(c_i + 2 c_{i-1})\\ for \\ i=2,...,n$$"
   ]
  },
  {
   "cell_type": "markdown",
   "metadata": {},
   "source": [
    "上面关于 $c_i$ 的方程组有 $n - 2$ 个方程，却有 $n$ 个未知量，因此还需要两个额外的方程才能确定所有系数, 这两个方程的选择就称为边界条件"
   ]
  },
  {
   "cell_type": "markdown",
   "metadata": {},
   "source": [
    "### 不同边界条件的三次样条插值"
   ]
  },
  {
   "cell_type": "markdown",
   "metadata": {},
   "source": [
    "#### 自然三次样条插值\n",
    "\n",
    "两个额外条件选为 $S''_1(x_1) = 0, S''_{n - 1}(x_n) = 0$"
   ]
  },
  {
   "cell_type": "markdown",
   "metadata": {},
   "source": [
    "#### Curvature-adjusted cubic spline\n",
    "\n",
    "由用户选择 $S''_1(x_1), S''_{n - 1}(x_n)$ 的值"
   ]
  },
  {
   "cell_type": "markdown",
   "metadata": {},
   "source": [
    "#### Clamped cubic spline\n",
    "\n",
    "由用户选择 $S'_1(x_1), S'_{n - 1}(x_n)$ 的值"
   ]
  },
  {
   "cell_type": "markdown",
   "metadata": {},
   "source": [
    "#### Parabolically terminated cubic spline\n",
    "\n",
    "令 $d_1 = d_{n - 1} = 0$"
   ]
  },
  {
   "cell_type": "markdown",
   "metadata": {},
   "source": [
    "#### Not-a-knot cubic spline\n",
    "\n",
    "令 $d_1 = d_2$ 且 $d_{n - 2} = d_{n - 1}$"
   ]
  }
 ],
 "metadata": {
  "kernelspec": {
   "display_name": "base",
   "language": "python",
   "name": "python3"
  },
  "language_info": {
   "codemirror_mode": {
    "name": "ipython",
    "version": 3
   },
   "file_extension": ".py",
   "mimetype": "text/x-python",
   "name": "python",
   "nbconvert_exporter": "python",
   "pygments_lexer": "ipython3",
   "version": "3.9.13"
  }
 },
 "nbformat": 4,
 "nbformat_minor": 2
}
