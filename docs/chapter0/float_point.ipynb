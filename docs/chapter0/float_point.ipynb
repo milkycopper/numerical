{
 "cells": [
  {
   "cell_type": "markdown",
   "metadata": {},
   "source": [
    "# Float point number"
   ]
  },
  {
   "cell_type": "markdown",
   "metadata": {},
   "source": [
    "### Definitions\n",
    "\n",
    "* Machine Epsilon \\\n",
    "    1 和所能表示的最小的大于 1 的浮点数直接的差值，对 64 位浮点数\n",
    "    $$\\epsilon_{machine} = 2^{-52}$$"
   ]
  },
  {
   "cell_type": "markdown",
   "metadata": {},
   "source": [
    "### Rounding to nearest rule\n",
    "\n",
    "对 64 位浮点数\n",
    "\n",
    "* if 53rd bit is 1\n",
    "    * bits after 53rd is all zero \\\n",
    "        rounding to make the final 52nd bit equal 0\n",
    "    * else \\\n",
    "        add 1 to the final 52nd bit\n",
    "* if 53rd bit is 0\n",
    "    * truncate after the 52nd bit\n",
    "\n",
    "rounding function **fl(x)**\n",
    "\n",
    "* Relative rounding error\n",
    "    $$\\frac{|fl(x) - x|}{|x|} <= \\frac{1}{2}\\epsilon_{machine}$$\n",
    "    "
   ]
  },
  {
   "cell_type": "markdown",
   "metadata": {},
   "source": [
    "### Loss of significance\n",
    "\n",
    "* 尽量避免两个相近的数相减"
   ]
  }
 ],
 "metadata": {
  "kernelspec": {
   "display_name": "base",
   "language": "python",
   "name": "python3"
  },
  "language_info": {
   "name": "python",
   "version": "3.11.3"
  }
 },
 "nbformat": 4,
 "nbformat_minor": 2
}
