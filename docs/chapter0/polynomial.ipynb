{
 "cells": [
  {
   "cell_type": "markdown",
   "metadata": {},
   "source": [
    "# Polynomial"
   ]
  },
  {
   "cell_type": "markdown",
   "metadata": {},
   "source": [
    "### Nested Multiplication\n",
    "减少乘和加的次数\n",
    "\n",
    "- 举例 1\n",
    "    \n",
    "    多项式 $c_1 + c_2 x + c_3 x^2 + c_4 x^3 + c_5 x^4$ 应当写成 $c_1 + x(c_2 + x(c_3 + x(c_4 + x(c_5))))$\n",
    "\n",
    "- 举例 2\n",
    "    \n",
    "    插值计算常常需要如下格式\n",
    "    \n",
    "    $c_1 + (x - r_1)(c_2 + (x - r_2)(c_3 + (x - r_3)(c_4 + (x - r_4)(c_5))))$, 其中 $r_i$ 为 **base points**"
   ]
  },
  {
   "cell_type": "markdown",
   "metadata": {},
   "source": [
    "#### Computer Problems"
   ]
  },
  {
   "cell_type": "markdown",
   "metadata": {},
   "source": [
    "1. 使用 Nested Multiplication 计算 $P(x) = 1 + x + \\dots + x^{50}$ at $x = 1.00001$, 与 $Q(x) = (x^{51} - 1)/(x - 1)$ 的结果对比，分析误差"
   ]
  },
  {
   "cell_type": "code",
   "execution_count": 4,
   "metadata": {},
   "outputs": [],
   "source": [
    "def nest_multi(x: float, coes) -> float:\n",
    "    ret = 0.0\n",
    "    for c in reversed(coes):\n",
    "        ret = ret * x + c\n",
    "    return ret"
   ]
  },
  {
   "cell_type": "code",
   "execution_count": 5,
   "metadata": {},
   "outputs": [
    {
     "name": "stdout",
     "output_type": "stream",
     "text": [
      "P(x) at x = 1.00001 is 51.01275208274999\n",
      "Q(x) at x = 1.00001 is 51.01275208283405\n",
      "relative error = 1.65e-12\n",
      "machine epsilon = 2.22e-16\n"
     ]
    }
   ],
   "source": [
    "def nest_multi_px_1(x: float) -> float:\n",
    "    coes = [1 for i in range(0, 51)]\n",
    "    return nest_multi(x, coes)\n",
    "\n",
    "def normal_qx_1(x: float) -> float:\n",
    "    x1 = x\n",
    "    x2 = x * x\n",
    "    x4 = x2 * x2\n",
    "    x8 = x4 * x4\n",
    "    x16 = x8 * x8\n",
    "    x32 = x16 * x16\n",
    "    x51 = x32 * x16 * x2 * x\n",
    "    return (x51 - 1.0) / (x1 - 1.0)\n",
    "\n",
    "def print_res_1():\n",
    "    px = nest_multi_px_1(1.00001)\n",
    "    qx = normal_qx_1(1.00001)\n",
    "\n",
    "    print('P(x) at x = 1.00001 is {}'.format(px))\n",
    "    print('Q(x) at x = 1.00001 is {}'.format(qx))\n",
    "    print('relative error = {:.2e}'.format(abs((px - qx)/px)))\n",
    "    print('machine epsilon = {:.2e}'.format(1.0 / pow(2, 52)))\n",
    "\n",
    "print_res_1()"
   ]
  },
  {
   "cell_type": "markdown",
   "metadata": {},
   "source": [
    "2. 使用 Nested Multiplication 计算 $P(x) = 1 - x + x^2 - x^3 + \\dots + x^{98} - x^{99}$ at $x = 1.00001$, 与 $Q(x) = (1 - x^{100})/(x + 1)$ 的结果对比，分析误差"
   ]
  },
  {
   "cell_type": "code",
   "execution_count": 6,
   "metadata": {},
   "outputs": [
    {
     "name": "stdout",
     "output_type": "stream",
     "text": [
      "P(x) at x = 1.00001 is -0.0005002450796476321\n",
      "Q(x) at x = 1.00001 is -0.00050024507964846\n",
      "relative error = 1.65e-12\n",
      "machine epsilon = 2.22e-16\n"
     ]
    }
   ],
   "source": [
    "def nest_multi_px_2(x: float) -> float:\n",
    "    coes = [1 if i % 2 == 0 else -1 for i in range(0, 100)]\n",
    "    return nest_multi(x, coes)\n",
    "\n",
    "def normal_qx_2(x: float) -> float:\n",
    "    x1 = x\n",
    "    x2 = x * x\n",
    "    x4 = x2 * x2\n",
    "    x8 = x4 * x4\n",
    "    x16 = x8 * x8\n",
    "    x32 = x16 * x16\n",
    "    x64 = x32 * x32\n",
    "    x100 = x64 * x32 * x4\n",
    "    return (1.0 - x100) / (x1 + 1.0)\n",
    "\n",
    "def print_res_2():\n",
    "    px = nest_multi_px_2(1.00001)\n",
    "    qx = normal_qx_2(1.00001)\n",
    "\n",
    "    print('P(x) at x = 1.00001 is {}'.format(px))\n",
    "    print('Q(x) at x = 1.00001 is {}'.format(qx))\n",
    "    print('relative error = {:.2e}'.format(abs((px - qx)/px)))\n",
    "    print('machine epsilon = {:.2e}'.format(1.0 / pow(2, 52)))\n",
    "\n",
    "print_res_2()"
   ]
  },
  {
   "cell_type": "markdown",
   "metadata": {},
   "source": [
    "### Taylor’s Theorem with Remainder\n",
    "\n",
    "$x, x_0$ 为实数，$f$ 为 $[x0, x]$ 间的 $k + 1$ 次连续可微函数，则存在 $c \\in [x_0, x]$，满足\n",
    "\n",
    "$$f(x) = f(x_0) + f'(x_0)(x - x_0) + \\frac{f''(x_0)}{2!}(x - x_0)^2 + \\cdots + \\frac{f^{(k)}(x_0)}{k!}(x - x_0)^k + \\frac{f^{(k+1)}(c)}{(k+1)!}(x - x_0)^{k+1}$$"
   ]
  },
  {
   "cell_type": "markdown",
   "metadata": {},
   "source": [
    "### 积分中值定理\n",
    "\n",
    "$f$ 为 $[a, b]$ 间的连续函数，$g$ 为 $[a, b]$ 间符号不变的可积函数，则存在 $c \\in [a, b]$，满足\n",
    "\n",
    "$$\\int^b_a f(x)g(x) dx = f(c) \\int^b_a g(x) dx$$"
   ]
  }
 ],
 "metadata": {
  "kernelspec": {
   "display_name": "base",
   "language": "python",
   "name": "python3"
  },
  "language_info": {
   "codemirror_mode": {
    "name": "ipython",
    "version": 3
   },
   "file_extension": ".py",
   "mimetype": "text/x-python",
   "name": "python",
   "nbconvert_exporter": "python",
   "pygments_lexer": "ipython3",
   "version": "3.11.3"
  }
 },
 "nbformat": 4,
 "nbformat_minor": 2
}
