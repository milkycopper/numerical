{
 "cells": [
  {
   "cell_type": "markdown",
   "metadata": {},
   "source": [
    "# Solving Equations"
   ]
  },
  {
   "cell_type": "markdown",
   "metadata": {},
   "source": [
    "### 二分法\n",
    "\n",
    "给定初始间隔 $[a, b]$, 且对连续函数 $f(a)f(b) < 0$, 则 $f(x)$ 在 $[a, b]$ 间有根，二分求根算法如下\n",
    "\n",
    "```python\n",
    "while (b - a) / 2 > ERROR_TOL:\n",
    "    c = (a + b) / 2\n",
    "    if f(c) == 0:\n",
    "        break\n",
    "    if f(a) * f(c) < 0:\n",
    "        b = c\n",
    "    else:\n",
    "        a = c\n",
    "approx_root = (a + b) / 2\n",
    "```\n",
    "\n",
    "#### Accuracy and Covergency\n",
    "\n",
    "* Absolute error \n",
    "  \n",
    "  $|x_c - r| < \\frac{b - a}{2^{n+1}}$\n",
    "\n",
    "* Relative error \n",
    "  \n",
    "  $e = \\frac{|x_c - r|}{b - a} < \\frac{1}{2^{n+1}} => n < log_2^{e^{-1}} - 1 $\n",
    "\n",
    "  十进制 $p$ 位精确度定义为 $e < 0.5 \\times 10^{-p} $\n",
    "\n",
    "  即 $n < log_2^{10^p} = p \\cdot log_2^{10} \\approx 3.32 \\cdot p$\n",
    "\n",
    "* Function evaluations\n",
    "  \n",
    "  $n + 2$\n",
    "\n"
   ]
  },
  {
   "cell_type": "markdown",
   "metadata": {},
   "source": [
    "#### 局部收敛\n",
    "\n",
    "如果一个迭代方法对于足够接近 $r$ 的初始预测值，能够收敛到 $r$, 那么称这个迭代方法是**局部收敛**的"
   ]
  },
  {
   "cell_type": "markdown",
   "metadata": {},
   "source": [
    "### 前向误差（forward error）与后向误差（backward error）\n",
    "\n",
    "* 定义\n",
    "  \n",
    "  假设函数 $f$ 的根为 $r$, 即 $f(r) = 0.$ 对于求根问题，近似解 $x_a$ 的后向误差为 $|f(x_a)|$，前向误差为 $|r - x_a|$\n",
    "\n",
    "#### 多次根\n",
    "\n",
    "若 $0 = f(r) = f'(r) = f''(r) = \\cdots = f^{(m - 1)}(r)$, but $f^{(m)}(r) \\neq 0$，则 $r$ 为 $f$ 的 $m$ 次根。\n",
    "\n",
    "多次根附近的前向误差的 $m$ 次方正比于后向误差，因此由于机器精度造成的很小的后向误差也可产生较大的前向误差。\n",
    "\n",
    "#### 误差的放大\n",
    "\n",
    "$f(x) = 0$ 的根为 $r$，假设输入的问题有一定的误差，即真实被求解的函数为 $f(x) + \\epsilon g(x) = 0$，解为 $r + \\Delta r$，泰勒展开可得\n",
    "\n",
    "$$0 = f(r + \\Delta r) + \\epsilon g(r + \\Delta r) = f(r) + f'(r) \\Delta r + O((\\Delta r)^2) + \\epsilon \\cdot (g(r) + g'(r) \\Delta r + O((\\Delta r)^2))\n",
    "= \\epsilon \\cdot g(r) + f'(r) \\Delta r + \\epsilon \\cdot g'(r) \\Delta r + O((\\Delta r)^2)\n",
    "$$\n",
    "\n",
    "$$\n",
    "\\Delta r \\approx \\frac{-\\epsilon \\cdot g(r)}{f'(r) + \\epsilon \\cdot g'(r)} \\overset{if\\quad\\epsilon << f'(r)}{\\approx\\approx\\approx\\approx\\approx\\approx}  \\frac{-\\epsilon \\cdot g(r)}{f'(r)}\n",
    "$$"
   ]
  },
  {
   "cell_type": "markdown",
   "metadata": {},
   "source": [
    "$$\n",
    "误差放大因子 = \\frac{相对前向误差}{相对后向误差} =  \\frac{|\\Delta r / r|}{|\\Delta f(x) / f(x)|} = \\frac{|g(r)|}{|r f'(x)|} \n",
    "$$"
   ]
  },
  {
   "cell_type": "markdown",
   "metadata": {},
   "source": [
    "### 良态（Well-Conditioned）和算法稳定性（stable）\n",
    "\n",
    "* Conditioning 衡量问题本身的误差放大效果\n",
    "* Algorithm Stable 衡量算法对微小的输入误差的放大作用\n",
    "\n",
    "    二者是平行的概念"
   ]
  },
  {
   "cell_type": "markdown",
   "metadata": {},
   "source": [
    "### 牛顿迭代法\n",
    "\n",
    "$x_{i + 1} = x_i - f(x_i) / f'(x_i)$\n",
    "\n",
    "#### 局部收敛性\n",
    "\n",
    "牛顿迭代可以看成是 $g(x) = x - f(x)/f'(x)$ 的不动点迭代\n",
    "$$g'(x) = 1 - \\frac{f'(x)^2 - f(x)f''(x)}{f'(x)^2} = \\frac{f(x)f''(x)}{f'(x)^2}$$\n",
    "\n",
    "$g'(r) = 0$,因此牛顿迭代局部收敛\n",
    "\n",
    "#### 二次收敛性\n",
    "\n",
    "$$\n",
    "0 = f(r) = f(x_i) + f'(x_i)(r - x_i) + \\frac{f''(c)}{2}(r - x_i)^2\n",
    "$$"
   ]
  },
  {
   "cell_type": "markdown",
   "metadata": {},
   "source": [
    "$$0 = \\frac{f(x_i)}{f'(x_i)} + r - x_i + \\frac{f''(c)}{2 f'(x_i)}(r - x_i)^2$$"
   ]
  },
  {
   "cell_type": "markdown",
   "metadata": {},
   "source": [
    "$$|x_{i+1} - r| = e_{i+1} = |\\frac{f''(c)}{2f'(x_i)}| e_i^2$$ \n",
    "when\n",
    " $$f'(x_i) \\neq 0$$"
   ]
  },
  {
   "cell_type": "markdown",
   "metadata": {},
   "source": [
    "### Secant 方法\n",
    "\n",
    "$$x_0, x_1 = initial \\quad guesses$$\n",
    "\n",
    "$$x_{i+1} = x_i - \\frac{f(x_i)(x_i - x_{i-1})}{f(x_i) - f(x_{i - 1})}$$\n",
    "\n",
    "$$e_{i+1} \\approx |\\frac{f''(r)}{2f'(r)}|e_i e_{i - 1} \\approx |\\frac{f''(r)}{2f'(r)}|^{\\alpha - 1}e_i^\\alpha$$\n",
    "\n",
    "where $\\alpha = (1 + \\sqrt{5})/2$, 超线性收敛性"
   ]
  },
  {
   "cell_type": "markdown",
   "metadata": {},
   "source": [
    "### Method of False Position\n",
    "\n",
    "给定初始间隔 $[a, b]$, 且对连续函数 $f(a)f(b) < 0$, 则 $f(x)$ 在 $[a, b]$ 间有根，Method of False Position 求根算法如下\n",
    "\n",
    "```python\n",
    "while (b - a) / 2 > ERROR_TOL:\n",
    "    c = (b * f(a) - a * f(b)) / (f(a) - f(b)) \n",
    "    if f(c) == 0:\n",
    "        break\n",
    "    if f(a) * f(c) < 0:\n",
    "        b = c\n",
    "    else:\n",
    "        a = c\n",
    "approx_root = (a + b) / 2\n",
    "```\n",
    "\n",
    "该算法的收敛性可能低于二分法"
   ]
  },
  {
   "cell_type": "markdown",
   "metadata": {},
   "source": [
    "### 逆二次插值法 （Inverse Quadratic Interpolation）\n",
    "\n",
    "此方法需要三个初始值 $x_i, x_{i+1}, x_{i+2}$ 开始迭代，对三个点 $(a, A), (b, B), (c, C)$，构造三次插值函数\n",
    "\n",
    "$$P(y) = a \\frac{(y - B)(y - C)}{(A - B)(A - C)} + b \\frac{(y - A)(y - C)}{(B - A)(B - C)} + c \\frac{(y - A)(y - B)}{(C - A)(C - B)}$$\n",
    "\n",
    "令 $q = A/B, r = C/B, s = C/A$，有\n",
    "\n",
    "$$x_{i+3} = P(0) = c - \\frac{r(r - q)(c - b) + (1 - r)s(c - a)}{(q - 1)(r - 1)(s - 1)}$$\n",
    "\n",
    "下一次迭代用 $x_{i+3}$ 替代 $x_i$ 或替代后向误差最大的那个 $x$ "
   ]
  },
  {
   "cell_type": "markdown",
   "metadata": {},
   "source": [
    "### Brent 方法\n",
    "\n"
   ]
  }
 ],
 "metadata": {
  "language_info": {
   "name": "python"
  }
 },
 "nbformat": 4,
 "nbformat_minor": 2
}
