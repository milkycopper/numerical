{
 "cells": [
  {
   "cell_type": "markdown",
   "metadata": {},
   "source": [
    "# Solving Equations"
   ]
  },
  {
   "cell_type": "markdown",
   "metadata": {},
   "source": [
    "### 二分法\n",
    "\n",
    "给定初始间隔 $[a, b]$, 且对连续函数 $f(a)f(b) < 0$, 则 $f(x)$ 在 $[a, b]$ 间有根，二分求根算法如下\n",
    "\n",
    "```python\n",
    "while (b - a) / 2 > ERROR_TOL:\n",
    "    c = (a + b) / 2\n",
    "    if f(c) == 0:\n",
    "        break\n",
    "    if f(a) * f(c) < 0:\n",
    "        b = c\n",
    "    else:\n",
    "        a = c\n",
    "approx_root = (a + b) / 2\n",
    "```\n",
    "\n",
    "#### Accuracy and Covergency\n",
    "\n",
    "* Absolute error \n",
    "  \n",
    "  $|x_c - r| < \\frac{b - a}{2^{n+1}}$\n",
    "\n",
    "* Relative error \n",
    "  \n",
    "  $e = \\frac{|x_c - r|}{b - a} < \\frac{1}{2^{n+1}} => n < log_2^{e^{-1}} - 1 $\n",
    "\n",
    "  十进制 $p$ 位精确度定义为 $e < 0.5 \\times 10^{-p} $\n",
    "\n",
    "  即 $n < log_2^{10^p} = p \\cdot log_2^{10} \\approx 3.32 \\cdot p$\n",
    "\n",
    "* Function evaluations\n",
    "  \n",
    "  $n + 2$\n",
    "\n"
   ]
  }
 ],
 "metadata": {
  "language_info": {
   "name": "python"
  }
 },
 "nbformat": 4,
 "nbformat_minor": 2
}
